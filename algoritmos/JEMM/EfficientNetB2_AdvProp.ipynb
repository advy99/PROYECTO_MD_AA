{
  "nbformat": 4,
  "nbformat_minor": 0,
  "metadata": {
    "colab": {
      "name": "EfficientNetB2_AdvProp.ipynb",
      "provenance": [],
      "collapsed_sections": []
    },
    "kernelspec": {
      "name": "python3",
      "display_name": "Python 3"
    },
    "language_info": {
      "name": "python"
    },
    "accelerator": "GPU"
  },
  "cells": [
    {
      "cell_type": "code",
      "execution_count": 6,
      "metadata": {
        "id": "wVQJG1nQgzMI"
      },
      "outputs": [],
      "source": [
        "## LIBRERIAS\n",
        "from google.colab import drive, files\n",
        "import tensorflow as tf \n",
        "import numpy as np\n",
        "import matplotlib.pyplot as plt\n",
        "import pandas as pd\n",
        "import mlflow\n",
        "from keras import Model, Sequential\n",
        "from keras.losses import SparseCategoricalCrossentropy\n",
        "from tensorflow.keras.optimizers import Adam\n",
        "from keras.callbacks import EarlyStopping\n",
        "from keras.layers import Conv2D, MaxPooling2D, Dense, Dropout, BatchNormalization, Rescaling, GlobalAveragePooling2D, RandomFlip, Input, RandomContrast\n",
        "from keras.preprocessing.image import ImageDataGenerator\n",
        "import random\n",
        "import os\n",
        "random.seed(1234)"
      ]
    },
    {
      "cell_type": "code",
      "source": [
        "## Cargamos Drive e importamos las imágenes de train y test\n",
        "drive.mount('/content/drive')\n",
        "!unzip \"/content/drive/MyDrive/ColabNotebooks/Mineria_Aspectos_Avanzados/Competicion_Kaggle/Sentinel2LULC_354.zip\" -d \"/content\"\n",
        "!unzip \"/content/drive/MyDrive/ColabNotebooks/Mineria_Aspectos_Avanzados/Competicion_Kaggle/Sentinel2LULC_Test.zip\" -d \"/content\""
      ],
      "metadata": {
        "id": "DNTeEgLnh6eW"
      },
      "execution_count": null,
      "outputs": []
    },
    {
      "cell_type": "code",
      "source": [
        "## Descargamos y descomprimimos los pesos \"AdvProp\" más recientes\n",
        "## de EfficientNetB2\n",
        "!wget https://storage.googleapis.com/cloud-tpu-checkpoints/efficientnet/advprop/efficientnet-b2.tar.gz\n",
        "!tar -xf efficientnet-b2.tar.gz -C /content/drive/MyDrive/ColabNotebooks/Mineria_Aspectos_Avanzados/Competicion_Kaggle"
      ],
      "metadata": {
        "id": "mmQXGIHml2k3"
      },
      "execution_count": null,
      "outputs": []
    },
    {
      "cell_type": "code",
      "source": [
        "## Convertimos los pesos a formato h5\n",
        "!python /content/drive/MyDrive/ColabNotebooks/Mineria_Aspectos_Avanzados/Competicion_Kaggle/efficientnet_weight_update_util.py --model b2 --notop --ckpt \\\n",
        "        /content/drive/MyDrive/ColabNotebooks/Mineria_Aspectos_Avanzados/Competicion_Kaggle/efficientnet-b2/model.ckpt --o /content/drive/MyDrive/ColabNotebooks/Mineria_Aspectos_Avanzados/Competicion_Kaggle/efficientnetb2_advprop_notop.h5"
      ],
      "metadata": {
        "id": "aDS7hWITnE4A"
      },
      "execution_count": null,
      "outputs": []
    },
    {
      "cell_type": "code",
      "source": [
        "## Renombramos las carpetas para que tf las lea en orden\n",
        "dirnames = sorted(os.listdir(\"Sentinel2LULC_354\"))\n",
        "for dir in dirnames:\n",
        "  newname = \"\"\n",
        "\n",
        "  if (len(dir.split('_')[0]) == 1):\n",
        "    newname = '0'+dir.split('_')[0]\n",
        "  else:\n",
        "    newname = dir.split('_')[0]\n",
        "\n",
        "  os.rename(\"Sentinel2LULC_354/\"+dir,\"Sentinel2LULC_354/\"+newname)"
      ],
      "metadata": {
        "id": "T4N68EG1RQhM"
      },
      "execution_count": 5,
      "outputs": []
    },
    {
      "cell_type": "code",
      "source": [
        "## Leemos las imágenes de train, validacion y test\n",
        "\n",
        "training = tf.keras.utils.image_dataset_from_directory(\n",
        "  \"Sentinel2LULC_354\",\n",
        "  validation_split=0.2,\n",
        "  subset=\"training\",\n",
        "  seed=1234,\n",
        "  image_size=(224, 224),\n",
        "  batch_size = 32)\n",
        "\n",
        "validation = tf.keras.utils.image_dataset_from_directory(\n",
        "  \"Sentinel2LULC_354\",\n",
        "  validation_split=0.2,\n",
        "  subset=\"validation\",\n",
        "  seed=1234,\n",
        "  image_size=(224, 224),\n",
        "  batch_size = 32)\n",
        "\n",
        "test = tf.keras.utils.image_dataset_from_directory(\n",
        "  \"Sentinel2LULC_Test\",\n",
        "  shuffle=False,\n",
        "  labels=None,\n",
        "  image_size=(224, 224),\n",
        "  batch_size = 32)\n"
      ],
      "metadata": {
        "colab": {
          "base_uri": "https://localhost:8080/"
        },
        "id": "nhgvyzLloHL-",
        "outputId": "0a158fc1-8b49-4d5e-d73c-dd1c7fa5089e"
      },
      "execution_count": 7,
      "outputs": [
        {
          "output_type": "stream",
          "name": "stdout",
          "text": [
            "Found 10266 files belonging to 29 classes.\n",
            "Using 8213 files for training.\n",
            "Found 10266 files belonging to 29 classes.\n",
            "Using 2053 files for validation.\n",
            "Found 1618 files belonging to 1 classes.\n"
          ]
        }
      ]
    },
    {
      "cell_type": "code",
      "source": [
        "## Función que muestra la evolución de las accuracy de train y validacion\n",
        "## durante el entrenamiento.\n",
        "def mostrarEvolucion(hist):\n",
        "\n",
        "  loss = hist.history['loss']\n",
        "  val_loss = hist.history['val_loss']\n",
        "  plt.plot(loss)\n",
        "  plt.plot(val_loss)\n",
        "  plt.legend(['Training loss', 'Validation loss'])\n",
        "  plt.show()\n",
        "\n",
        "  acc = hist.history['accuracy']\n",
        "  val_acc = hist.history['val_accuracy']\n",
        "  plt.plot(acc)\n",
        "  plt.plot(val_acc)\n",
        "  plt.legend(['Training accuracy', 'Validation accuracy'])\n",
        "  plt.show()\n",
        "\n",
        "## Creamos el modelo con las capas de Data Augmentation.\n",
        "## Solo RandomFlip parece ir bien. \n",
        "augmentation = Sequential([\n",
        "        RandomFlip()\n",
        "])\n",
        "\n",
        "## Vamos a entrenar usando la red EfficietNetB2\n",
        "base_model = tf.keras.applications.EfficientNetB2(include_top=False,\n",
        "                                                  weights='/content/drive/MyDrive/ColabNotebooks/Mineria_Aspectos_Avanzados/Competicion_Kaggle/efficientnetb2_advprop_notop.h5',\n",
        "                                                  pooling='avg')\n",
        "\n",
        "base_model.trainable = False\n",
        "\n",
        "## Capa de entrada\n",
        "entrada = Input(shape=(224,224,3))\n",
        "\n",
        "## Capa de normalizacion\n",
        "normalization = Rescaling(1./255)\n",
        "\n",
        "## Capa de salida\n",
        "prediction_layer = Dense(29, activation=\"softmax\")\n",
        "\n",
        "## Creamos nuestro modelo final juntando todos los submodelos/capas\n",
        "## anteriores\n",
        "model = Sequential([\n",
        "  entrada,\n",
        "  augmentation,\n",
        "  base_model,\n",
        "  BatchNormalization(),\n",
        "  Dropout(0.2),\n",
        "  prediction_layer\n",
        "])\n",
        "opt = Adam(learning_rate=1e-2)\n",
        "      \n",
        "model.compile(loss=SparseCategoricalCrossentropy(from_logits=False),optimizer=opt, \n",
        "                  metrics=['accuracy'])\n",
        "\n",
        "mlflow.set_experiment(\"EfficientNetB2 con DataAugmentation (AdvProp)\")\n",
        "mlflow.tensorflow.autolog()\n",
        "\n",
        "with mlflow.start_run():\n",
        "  callback = EarlyStopping(patience=3,restore_best_weights=True)\n",
        "  history = model.fit(training,\n",
        "                    epochs=25,\n",
        "                    validation_data=validation,\n",
        "                    callbacks=callback)\n",
        "\n",
        "  mostrarEvolucion(history)"
      ],
      "metadata": {
        "colab": {
          "base_uri": "https://localhost:8080/",
          "height": 825
        },
        "id": "NWSi0H18USvE",
        "outputId": "5aa1f6ae-f4ce-48ff-b975-532d9494acd9"
      },
      "execution_count": 8,
      "outputs": [
        {
          "output_type": "stream",
          "name": "stderr",
          "text": [
            "2022/03/17 09:58:34 INFO mlflow.tracking.fluent: Experiment with name 'EfficientNetB2 con DataAugmentation (AdvProp)' does not exist. Creating a new experiment.\n"
          ]
        },
        {
          "output_type": "stream",
          "name": "stdout",
          "text": [
            "Epoch 1/25\n",
            "257/257 [==============================] - 92s 264ms/step - loss: 2.4715 - accuracy: 0.5422 - val_loss: 1.2138 - val_accuracy: 0.6454\n",
            "Epoch 2/25\n",
            "257/257 [==============================] - 64s 248ms/step - loss: 1.5112 - accuracy: 0.6397 - val_loss: 1.0907 - val_accuracy: 0.6678\n",
            "Epoch 3/25\n",
            "257/257 [==============================] - 64s 249ms/step - loss: 1.1809 - accuracy: 0.6722 - val_loss: 0.9606 - val_accuracy: 0.7141\n",
            "Epoch 4/25\n",
            "257/257 [==============================] - 64s 249ms/step - loss: 1.0335 - accuracy: 0.6912 - val_loss: 0.8931 - val_accuracy: 0.7165\n",
            "Epoch 5/25\n",
            "257/257 [==============================] - 64s 249ms/step - loss: 0.9864 - accuracy: 0.6939 - val_loss: 0.8726 - val_accuracy: 0.7194\n",
            "Epoch 6/25\n",
            "257/257 [==============================] - 64s 248ms/step - loss: 0.9249 - accuracy: 0.7060 - val_loss: 0.8816 - val_accuracy: 0.7321\n",
            "Epoch 7/25\n",
            "257/257 [==============================] - 64s 248ms/step - loss: 0.9453 - accuracy: 0.7000 - val_loss: 0.8831 - val_accuracy: 0.7292\n",
            "Epoch 8/25\n",
            "257/257 [==============================] - 64s 249ms/step - loss: 0.9757 - accuracy: 0.6940 - val_loss: 0.9246 - val_accuracy: 0.7107\n"
          ]
        },
        {
          "output_type": "stream",
          "name": "stderr",
          "text": [
            "2022/03/17 10:08:46 WARNING mlflow.utils.autologging_utils: Encountered unexpected error during tensorflow autologging: 'EarlyStopping' object is not iterable\n"
          ]
        },
        {
          "output_type": "display_data",
          "data": {
            "text/plain": [
              "<Figure size 432x288 with 1 Axes>"
            ],
            "image/png": "[encoded data removed]"
          },
          "metadata": {
            "needs_background": "light"
          }
        },
        {
          "output_type": "display_data",
          "data": {
            "text/plain": [
              "<Figure size 432x288 with 1 Axes>"
            ],
            "image/png": "[encoded data removed]"
          },
          "metadata": {
            "needs_background": "light"
          }
        }
      ]
    },
    {
      "cell_type": "code",
      "source": [
        "## FINE TUNING: Volvemos a entrenar descongelando algunas capas (menos las BatchNormalization)\n",
        "\n",
        "def unfreeze_model(model):\n",
        "    for layer in model.layers[-20:]:\n",
        "        if not isinstance(layer, BatchNormalization):\n",
        "            layer.trainable = True\n",
        "\n",
        "    opt = Adam(learning_rate=1e-4)\n",
        "    model.compile(loss=SparseCategoricalCrossentropy(from_logits=False),optimizer=opt, \n",
        "                  metrics=['accuracy'])\n",
        "\n",
        "\n",
        "unfreeze_model(model)\n",
        "\n",
        "with mlflow.start_run():\n",
        "  callback = EarlyStopping(patience=3,restore_best_weights=True)\n",
        "  history = model.fit(training,\n",
        "                    epochs=10,\n",
        "                    validation_data=validation,\n",
        "                    callbacks=callback)\n",
        "\n",
        "  mostrarEvolucion(history)"
      ],
      "metadata": {
        "colab": {
          "base_uri": "https://localhost:8080/",
          "height": 843
        },
        "id": "WEy3yUbR2DoP",
        "outputId": "b27a1d41-0a73-489d-f640-f335b412109c"
      },
      "execution_count": 9,
      "outputs": [
        {
          "output_type": "stream",
          "name": "stdout",
          "text": [
            "Epoch 1/10\n",
            "257/257 [==============================] - 257s 930ms/step - loss: 1.3096 - accuracy: 0.6325 - val_loss: 0.7436 - val_accuracy: 0.7604\n",
            "Epoch 2/10\n",
            "257/257 [==============================] - 236s 917ms/step - loss: 0.6511 - accuracy: 0.7875 - val_loss: 0.5007 - val_accuracy: 0.8217\n",
            "Epoch 3/10\n",
            "257/257 [==============================] - 236s 916ms/step - loss: 0.5054 - accuracy: 0.8328 - val_loss: 0.4035 - val_accuracy: 0.8612\n",
            "Epoch 4/10\n",
            "257/257 [==============================] - 236s 916ms/step - loss: 0.4096 - accuracy: 0.8595 - val_loss: 0.4027 - val_accuracy: 0.8646\n",
            "Epoch 5/10\n",
            "257/257 [==============================] - 235s 914ms/step - loss: 0.3371 - accuracy: 0.8804 - val_loss: 0.3800 - val_accuracy: 0.8773\n",
            "Epoch 6/10\n",
            "257/257 [==============================] - 235s 914ms/step - loss: 0.3062 - accuracy: 0.8949 - val_loss: 0.3624 - val_accuracy: 0.8860\n",
            "Epoch 7/10\n",
            "257/257 [==============================] - 236s 916ms/step - loss: 0.2649 - accuracy: 0.9094 - val_loss: 0.3925 - val_accuracy: 0.8821\n",
            "Epoch 8/10\n",
            "257/257 [==============================] - 235s 915ms/step - loss: 0.2399 - accuracy: 0.9160 - val_loss: 0.3811 - val_accuracy: 0.8826\n",
            "Epoch 9/10\n",
            "257/257 [==============================] - 235s 915ms/step - loss: 0.2217 - accuracy: 0.9194 - val_loss: 0.3854 - val_accuracy: 0.8831\n"
          ]
        },
        {
          "output_type": "stream",
          "name": "stderr",
          "text": [
            "2022/03/17 10:46:34 WARNING mlflow.utils.autologging_utils: Encountered unexpected error during tensorflow autologging: 'EarlyStopping' object is not iterable\n"
          ]
        },
        {
          "output_type": "display_data",
          "data": {
            "text/plain": [
              "<Figure size 432x288 with 1 Axes>"
            ],
            "image/png": "[encoded data removed]"
          },
          "metadata": {
            "needs_background": "light"
          }
        },
        {
          "output_type": "display_data",
          "data": {
            "text/plain": [
              "<Figure size 432x288 with 1 Axes>"
            ],
            "image/png": "[encoded data removed]"
          },
          "metadata": {
            "needs_background": "light"
          }
        }
      ]
    },
    {
      "cell_type": "code",
      "source": [
        "## Predecimos las clases\n",
        "y_pred = model.predict(test)\n",
        "classes = np.argmax(y_pred, axis=1)\n",
        "classes = np.array(classes)\n",
        "classes = classes + 1\n",
        "print(classes)"
      ],
      "metadata": {
        "id": "C48ZiC5HxOh_",
        "colab": {
          "base_uri": "https://localhost:8080/"
        },
        "outputId": "90166dae-eeb1-4266-8097-a6ad48b4e3bd"
      },
      "execution_count": 11,
      "outputs": [
        {
          "output_type": "stream",
          "name": "stdout",
          "text": [
            "[10 10 10 ...  9  9  9]\n"
          ]
        }
      ]
    },
    {
      "cell_type": "code",
      "source": [
        "## Creamos el csv con los resultados\n",
        "d = {'id.jpg': sorted(os.listdir(\"Sentinel2LULC_Test\")), 'label': classes}\n",
        "df = pd.DataFrame(data=d)\n",
        "df.to_csv('EfficientNetB2_AdvProp.csv', index=False)\n",
        "files.download('EfficientNetB2_AdvProp.csv')"
      ],
      "metadata": {
        "id": "slVHuZ5cylPh",
        "colab": {
          "base_uri": "https://localhost:8080/",
          "height": 17
        },
        "outputId": "070e24a0-4f3f-4b37-f500-b7a52e58c009"
      },
      "execution_count": 12,
      "outputs": [
        {
          "output_type": "display_data",
          "data": {
            "text/plain": [
              "<IPython.core.display.Javascript object>"
            ],
            "application/javascript": [
              "\n",
              "    async function download(id, filename, size) {\n",
              "      if (!google.colab.kernel.accessAllowed) {\n",
              "        return;\n",
              "      }\n",
              "      const div = document.createElement('div');\n",
              "      const label = document.createElement('label');\n",
              "      label.textContent = `Downloading \"${filename}\": `;\n",
              "      div.appendChild(label);\n",
              "      const progress = document.createElement('progress');\n",
              "      progress.max = size;\n",
              "      div.appendChild(progress);\n",
              "      document.body.appendChild(div);\n",
              "\n",
              "      const buffers = [];\n",
              "      let downloaded = 0;\n",
              "\n",
              "      const channel = await google.colab.kernel.comms.open(id);\n",
              "      // Send a message to notify the kernel that we're ready.\n",
              "      channel.send({})\n",
              "\n",
              "      for await (const message of channel.messages) {\n",
              "        // Send a message to notify the kernel that we're ready.\n",
              "        channel.send({})\n",
              "        if (message.buffers) {\n",
              "          for (const buffer of message.buffers) {\n",
              "            buffers.push(buffer);\n",
              "            downloaded += buffer.byteLength;\n",
              "            progress.value = downloaded;\n",
              "          }\n",
              "        }\n",
              "      }\n",
              "      const blob = new Blob(buffers, {type: 'application/binary'});\n",
              "      const a = document.createElement('a');\n",
              "      a.href = window.URL.createObjectURL(blob);\n",
              "      a.download = filename;\n",
              "      div.appendChild(a);\n",
              "      a.click();\n",
              "      div.remove();\n",
              "    }\n",
              "  "
            ]
          },
          "metadata": {}
        },
        {
          "output_type": "display_data",
          "data": {
            "text/plain": [
              "<IPython.core.display.Javascript object>"
            ],
            "application/javascript": [
              "download(\"download_af4b968f-92a7-41e3-9616-bcfd98ec77d4\", \"EfficientNetB2_AdvProp.csv\", 155472)"
            ]
          },
          "metadata": {}
        }
      ]
    }
  ]
}