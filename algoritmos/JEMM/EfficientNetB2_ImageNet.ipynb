{
  "nbformat": 4,
  "nbformat_minor": 0,
  "metadata": {
    "colab": {
      "name": "EfficientNetB2_ImageNet.ipynb",
      "provenance": [],
      "collapsed_sections": []
    },
    "kernelspec": {
      "name": "python3",
      "display_name": "Python 3"
    },
    "language_info": {
      "name": "python"
    },
    "accelerator": "GPU"
  },
  "cells": [
    {
      "cell_type": "code",
      "execution_count": 4,
      "metadata": {
        "id": "wVQJG1nQgzMI"
      },
      "outputs": [],
      "source": [
        "## LIBRERIAS\n",
        "from google.colab import drive, files\n",
        "import tensorflow as tf \n",
        "import numpy as np\n",
        "import matplotlib.pyplot as plt\n",
        "import pandas as pd\n",
        "import mlflow\n",
        "import keras_tuner as kt\n",
        "from keras import Model, Sequential\n",
        "from keras.losses import SparseCategoricalCrossentropy\n",
        "from tensorflow.keras.optimizers import Adam\n",
        "from keras.callbacks import EarlyStopping\n",
        "from keras.layers import Conv2D, MaxPooling2D, Dense, Dropout, BatchNormalization, Rescaling, GlobalAveragePooling2D, RandomFlip, Input, RandomContrast\n",
        "from keras.preprocessing.image import ImageDataGenerator\n",
        "import random\n",
        "import os\n",
        "random.seed(1234)"
      ]
    },
    {
      "cell_type": "code",
      "source": [
        "## Cargamos Drive e importamos las imágenes de train y test\n",
        "drive.mount('/content/drive')\n",
        "!unzip \"/content/drive/MyDrive/ColabNotebooks/Mineria_Aspectos_Avanzados/Competicion_Kaggle/Sentinel2LULC_354.zip\" -d \"/content\"\n",
        "!unzip \"/content/drive/MyDrive/ColabNotebooks/Mineria_Aspectos_Avanzados/Competicion_Kaggle/Sentinel2LULC_Test.zip\" -d \"/content\""
      ],
      "metadata": {
        "id": "DNTeEgLnh6eW"
      },
      "execution_count": null,
      "outputs": []
    },
    {
      "cell_type": "code",
      "source": [
        "## Renombramos las carpetas para que tf las lea en orden\n",
        "dirnames = sorted(os.listdir(\"Sentinel2LULC_354\"))\n",
        "for dir in dirnames:\n",
        "  newname = \"\"\n",
        "\n",
        "  if (len(dir.split('_')[0]) == 1):\n",
        "    newname = '0'+dir.split('_')[0]\n",
        "  else:\n",
        "    newname = dir.split('_')[0]\n",
        "\n",
        "  os.rename(\"Sentinel2LULC_354/\"+dir,\"Sentinel2LULC_354/\"+newname)"
      ],
      "metadata": {
        "id": "T4N68EG1RQhM"
      },
      "execution_count": 6,
      "outputs": []
    },
    {
      "cell_type": "code",
      "source": [
        "## Leemos las imágenes de train, validacion y test\n",
        "\n",
        "training = tf.keras.utils.image_dataset_from_directory(\n",
        "  \"Sentinel2LULC_354\",\n",
        "  validation_split=0.2,\n",
        "  subset=\"training\",\n",
        "  seed=1234,\n",
        "  image_size=(224, 224),\n",
        "  batch_size = 32)\n",
        "\n",
        "validation = tf.keras.utils.image_dataset_from_directory(\n",
        "  \"Sentinel2LULC_354\",\n",
        "  validation_split=0.2,\n",
        "  subset=\"validation\",\n",
        "  seed=1234,\n",
        "  image_size=(224, 224),\n",
        "  batch_size = 32)\n",
        "\n",
        "test = tf.keras.utils.image_dataset_from_directory(\n",
        "  \"Sentinel2LULC_Test\",\n",
        "  shuffle=False,\n",
        "  labels=None,\n",
        "  image_size=(224, 224),\n",
        "  batch_size = 32)"
      ],
      "metadata": {
        "colab": {
          "base_uri": "https://localhost:8080/"
        },
        "id": "nhgvyzLloHL-",
        "outputId": "90459ad2-a79e-4aa5-abb9-b328033bd408"
      },
      "execution_count": 7,
      "outputs": [
        {
          "output_type": "stream",
          "name": "stdout",
          "text": [
            "Found 10266 files belonging to 29 classes.\n",
            "Using 8213 files for training.\n",
            "Found 10266 files belonging to 29 classes.\n",
            "Using 2053 files for validation.\n",
            "Found 1618 files belonging to 1 classes.\n"
          ]
        }
      ]
    },
    {
      "cell_type": "code",
      "source": [
        "## Estimación de los hiperparámetros del compilador\n",
        "\n",
        "def model_builder(hp):\n",
        "  '''\n",
        "  Args:\n",
        "    hp - Keras tuner object\n",
        "  '''\n",
        "  augmentation = Sequential([\n",
        "        RandomFlip()\n",
        "  ])\n",
        "  base_model = tf.keras.applications.EfficientNetB2(include_top=False,\n",
        "                                                    weights='imagenet',\n",
        "                                                    pooling='avg')\n",
        "  base_model.trainable = False\n",
        "  entrada = Input(shape=(224,224,3))\n",
        "  prediction_layer = Dense(29, activation=\"softmax\")\n",
        "  model = Sequential([\n",
        "    entrada,\n",
        "    augmentation,\n",
        "    base_model,\n",
        "    BatchNormalization(),\n",
        "    Dropout(0.2),\n",
        "    prediction_layer\n",
        "  ])\n",
        "\n",
        "  # Tuneamos el learning rate y el optimizador\n",
        "  hp_learning_rate = hp.Choice('learning_rate', values=[1e-2,1e-3,1e-4,0.1,\n",
        "                                                        0.2, 0.3])\n",
        "  hp_amsgrad = hp.Choice('amsgrad', values=[True,False])\n",
        "  model.compile(optimizer=Adam(learning_rate=hp_learning_rate,amsgrad=hp_amsgrad),\n",
        "                loss=SparseCategoricalCrossentropy(from_logits=False),\n",
        "                metrics=['accuracy'])\n",
        "  return model\n",
        "\n",
        "# Instanciamos el tuner\n",
        "tuner = kt.Hyperband(model_builder, \n",
        "                     objective='val_accuracy', \n",
        "                     max_epochs=25,\n",
        "                     factor=3, \n",
        "                     directory=\"/content/drive/MyDrive/ColabNotebooks/Mineria_Aspectos_Avanzados/Competicion_Kaggle/\",\n",
        "                     project_name='khyperbandEfficientNetB2')\n",
        "\n",
        "print(tuner.search_space_summary())\n",
        "\n",
        "# Ejecutamos el tuner\n",
        "stop_early = tf.keras.callbacks.EarlyStopping(monitor='val_loss', patience=5)\n",
        "tuner.search(training,validation_data=validation,epochs=25, callbacks=[stop_early])\n",
        "best_hp=tuner.get_best_hyperparameters()[0]\n",
        "\n",
        "print(best_hp.get('learning_rate'))\n",
        "print(best_hp.get('amsgrad'))"
      ],
      "metadata": {
        "colab": {
          "base_uri": "https://localhost:8080/"
        },
        "id": "FbeIOKDPsvEA",
        "outputId": "d13f87ff-e084-46cc-a351-414669eefe70"
      },
      "execution_count": null,
      "outputs": [
        {
          "output_type": "stream",
          "name": "stdout",
          "text": [
            "Trial 18 Complete [00h 17m 02s]\n",
            "val_accuracy: 0.7588894367218018\n",
            "\n",
            "Best val_accuracy So Far: 0.7588894367218018\n",
            "Total elapsed time: 01h 54m 20s\n",
            "INFO:tensorflow:Oracle triggered exit\n",
            "<keras_tuner.engine.hyperparameters.HyperParameters object at 0x7fea0131b210>\n"
          ]
        }
      ]
    },
    {
      "cell_type": "code",
      "source": [
        "## Función que muestra la evolución de las accuracy de train y validacion\n",
        "## durante el entrenamiento.\n",
        "def mostrarEvolucion(hist):\n",
        "\n",
        "  loss = hist.history['loss']\n",
        "  val_loss = hist.history['val_loss']\n",
        "  plt.plot(loss)\n",
        "  plt.plot(val_loss)\n",
        "  plt.legend(['Training loss', 'Validation loss'])\n",
        "  plt.show()\n",
        "\n",
        "  acc = hist.history['accuracy']\n",
        "  val_acc = hist.history['val_accuracy']\n",
        "  plt.plot(acc)\n",
        "  plt.plot(val_acc)\n",
        "  plt.legend(['Training accuracy', 'Validation accuracy'])\n",
        "  plt.show()\n",
        "\n",
        "## Creamos el modelo con las capas de Data Augmentation.\n",
        "## Solo RandomFlip parece ir bien. \n",
        "augmentation = Sequential([\n",
        "        RandomFlip()\n",
        "])\n",
        "\n",
        "\n",
        "## Vamos a entrenar usando la red EfficietNetB2\n",
        "base_model = tf.keras.applications.EfficientNetB2(include_top=False,\n",
        "                                                  weights='imagenet',\n",
        "                                                  pooling='avg')\n",
        "\n",
        "base_model.trainable = False\n",
        "\n",
        "## Capa de entrada\n",
        "entrada = Input(shape=(224,224,3))\n",
        "\n",
        "## Capa de normalizacion\n",
        "normalization = Rescaling(1./255)\n",
        "\n",
        "## Capa de salida\n",
        "prediction_layer = Dense(29, activation=\"softmax\")\n",
        "\n",
        "## Creamos nuestro modelo final juntando todos los submodelos/capas\n",
        "## anteriores\n",
        "model = Sequential([\n",
        "  entrada,\n",
        "  augmentation,\n",
        "  base_model,\n",
        "  BatchNormalization(),\n",
        "  Dropout(0.2),\n",
        "  prediction_layer\n",
        "])\n",
        "\n",
        "opt = Adam(learning_rate=0.001, amsgrad=0)\n",
        "      \n",
        "model.compile(loss=SparseCategoricalCrossentropy(from_logits=False),optimizer=opt, \n",
        "                  metrics=['accuracy'])\n",
        "\n",
        "mlflow.set_experiment(\"EfficientNetB2 con DataAugmentation (ImageNet)\")\n",
        "mlflow.tensorflow.autolog()\n",
        "\n",
        "with mlflow.start_run():\n",
        "  callback = EarlyStopping(patience=5,restore_best_weights=True)\n",
        "  history = model.fit(training,\n",
        "                    epochs=25,\n",
        "                    validation_data=validation,\n",
        "                    callbacks=callback)\n",
        "\n",
        "  mostrarEvolucion(history)"
      ],
      "metadata": {
        "colab": {
          "base_uri": "https://localhost:8080/",
          "height": 1000
        },
        "id": "NWSi0H18USvE",
        "outputId": "dbe55e5b-95cf-4634-fcd3-d7f98aa28a14"
      },
      "execution_count": 9,
      "outputs": [
        {
          "output_type": "stream",
          "name": "stdout",
          "text": [
            "Epoch 1/25\n",
            "257/257 [==============================] - 79s 265ms/step - loss: 1.6528 - accuracy: 0.5119 - val_loss: 1.2944 - val_accuracy: 0.6444\n",
            "Epoch 2/25\n",
            "257/257 [==============================] - 64s 248ms/step - loss: 1.0919 - accuracy: 0.6442 - val_loss: 0.9359 - val_accuracy: 0.6912\n",
            "Epoch 3/25\n",
            "257/257 [==============================] - 64s 248ms/step - loss: 0.9509 - accuracy: 0.6851 - val_loss: 0.9230 - val_accuracy: 0.6961\n",
            "Epoch 4/25\n",
            "257/257 [==============================] - 64s 248ms/step - loss: 0.8842 - accuracy: 0.7042 - val_loss: 0.8296 - val_accuracy: 0.7350\n",
            "Epoch 5/25\n",
            "257/257 [==============================] - 64s 246ms/step - loss: 0.8345 - accuracy: 0.7223 - val_loss: 0.8034 - val_accuracy: 0.7350\n",
            "Epoch 6/25\n",
            "257/257 [==============================] - 64s 247ms/step - loss: 0.8009 - accuracy: 0.7286 - val_loss: 0.8150 - val_accuracy: 0.7219\n",
            "Epoch 7/25\n",
            "257/257 [==============================] - 64s 247ms/step - loss: 0.7774 - accuracy: 0.7374 - val_loss: 0.8111 - val_accuracy: 0.7287\n",
            "Epoch 8/25\n",
            "257/257 [==============================] - 72s 281ms/step - loss: 0.7511 - accuracy: 0.7422 - val_loss: 0.8121 - val_accuracy: 0.7443\n",
            "Epoch 9/25\n",
            "257/257 [==============================] - 64s 249ms/step - loss: 0.7460 - accuracy: 0.7464 - val_loss: 0.7861 - val_accuracy: 0.7438\n",
            "Epoch 10/25\n",
            "257/257 [==============================] - 64s 249ms/step - loss: 0.7085 - accuracy: 0.7650 - val_loss: 0.7843 - val_accuracy: 0.7375\n",
            "Epoch 11/25\n",
            "257/257 [==============================] - 64s 248ms/step - loss: 0.7030 - accuracy: 0.7629 - val_loss: 0.7932 - val_accuracy: 0.7574\n",
            "Epoch 12/25\n",
            "257/257 [==============================] - 64s 248ms/step - loss: 0.7013 - accuracy: 0.7631 - val_loss: 0.8248 - val_accuracy: 0.7233\n",
            "Epoch 13/25\n",
            "257/257 [==============================] - 64s 247ms/step - loss: 0.6840 - accuracy: 0.7665 - val_loss: 0.8078 - val_accuracy: 0.7521\n",
            "Epoch 14/25\n",
            "257/257 [==============================] - 64s 249ms/step - loss: 0.6805 - accuracy: 0.7662 - val_loss: 0.8044 - val_accuracy: 0.7462\n",
            "Epoch 15/25\n",
            "257/257 [==============================] - 64s 249ms/step - loss: 0.6713 - accuracy: 0.7701 - val_loss: 0.7875 - val_accuracy: 0.7491\n"
          ]
        },
        {
          "output_type": "stream",
          "name": "stderr",
          "text": [
            "2022/03/18 15:25:51 WARNING mlflow.utils.autologging_utils: Encountered unexpected error during tensorflow autologging: 'EarlyStopping' object is not iterable\n"
          ]
        },
        {
          "output_type": "display_data",
          "data": {
            "text/plain": [
              "<Figure size 432x288 with 1 Axes>"
            ],
            "image/png": "[encoded data removed]"
          },
          "metadata": {
            "needs_background": "light"
          }
        },
        {
          "output_type": "display_data",
          "data": {
            "text/plain": [
              "<Figure size 432x288 with 1 Axes>"
            ],
            "image/png": "[encoded data removed]"
          },
          "metadata": {
            "needs_background": "light"
          }
        }
      ]
    },
    {
      "cell_type": "code",
      "source": [
        "## FINE TUNING: Volvemos a entrenar descongelando algunas capas (menos las BatchNormalization)\n",
        "\n",
        "def unfreeze_model(model):\n",
        "  for layer in model.layers[-20:]:\n",
        "    if not isinstance(layer, BatchNormalization):\n",
        "      layer.trainable = True\n",
        "\n",
        "  opt = Adam(learning_rate=1e-4)\n",
        "  model.compile(loss=SparseCategoricalCrossentropy(from_logits=False),optimizer=opt, \n",
        "              metrics=['accuracy'])\n",
        "  \n",
        "unfreeze_model(model)\n",
        "\n",
        "with mlflow.start_run():\n",
        "  callback = EarlyStopping(patience=5,restore_best_weights=True)\n",
        "  history = model.fit(training,\n",
        "                    epochs=25,\n",
        "                    validation_data=validation,\n",
        "                    callbacks=callback)\n",
        "\n",
        "  mostrarEvolucion(history)"
      ],
      "metadata": {
        "colab": {
          "base_uri": "https://localhost:8080/",
          "height": 981
        },
        "id": "WEy3yUbR2DoP",
        "outputId": "2443128d-7edd-4562-baca-df2ec08ae584"
      },
      "execution_count": 10,
      "outputs": [
        {
          "output_type": "stream",
          "name": "stdout",
          "text": [
            "Epoch 1/25\n",
            "257/257 [==============================] - 257s 930ms/step - loss: 1.3353 - accuracy: 0.6161 - val_loss: 1.8928 - val_accuracy: 0.4705\n",
            "Epoch 2/25\n",
            "257/257 [==============================] - 234s 909ms/step - loss: 0.6761 - accuracy: 0.7817 - val_loss: 0.6780 - val_accuracy: 0.8183\n",
            "Epoch 3/25\n",
            "257/257 [==============================] - 237s 919ms/step - loss: 0.5247 - accuracy: 0.8278 - val_loss: 0.6384 - val_accuracy: 0.8485\n",
            "Epoch 4/25\n",
            "257/257 [==============================] - 235s 911ms/step - loss: 0.4220 - accuracy: 0.8551 - val_loss: 0.3754 - val_accuracy: 0.8773\n",
            "Epoch 5/25\n",
            "257/257 [==============================] - 234s 911ms/step - loss: 0.3378 - accuracy: 0.8838 - val_loss: 1.1817 - val_accuracy: 0.8665\n",
            "Epoch 6/25\n",
            "257/257 [==============================] - 235s 914ms/step - loss: 0.3158 - accuracy: 0.8877 - val_loss: 0.4770 - val_accuracy: 0.8880\n",
            "Epoch 7/25\n",
            "257/257 [==============================] - 236s 916ms/step - loss: 0.2620 - accuracy: 0.9084 - val_loss: 0.5584 - val_accuracy: 0.8665\n",
            "Epoch 8/25\n",
            "257/257 [==============================] - 233s 906ms/step - loss: 0.2229 - accuracy: 0.9195 - val_loss: 0.3342 - val_accuracy: 0.8889\n",
            "Epoch 9/25\n",
            "257/257 [==============================] - 232s 904ms/step - loss: 0.2191 - accuracy: 0.9223 - val_loss: 0.4043 - val_accuracy: 0.8773\n",
            "Epoch 10/25\n",
            "257/257 [==============================] - 234s 910ms/step - loss: 0.1884 - accuracy: 0.9319 - val_loss: 0.4545 - val_accuracy: 0.8841\n",
            "Epoch 11/25\n",
            "257/257 [==============================] - 234s 910ms/step - loss: 0.1880 - accuracy: 0.9328 - val_loss: 0.4751 - val_accuracy: 0.8889\n",
            "Epoch 12/25\n",
            "257/257 [==============================] - 233s 907ms/step - loss: 0.1590 - accuracy: 0.9418 - val_loss: 0.3531 - val_accuracy: 0.8928\n",
            "Epoch 13/25\n",
            "257/257 [==============================] - 233s 906ms/step - loss: 0.1391 - accuracy: 0.9489 - val_loss: 0.3618 - val_accuracy: 0.8943\n"
          ]
        },
        {
          "output_type": "stream",
          "name": "stderr",
          "text": [
            "2022/03/18 16:21:27 WARNING mlflow.utils.autologging_utils: Encountered unexpected error during tensorflow autologging: 'EarlyStopping' object is not iterable\n"
          ]
        },
        {
          "output_type": "display_data",
          "data": {
            "text/plain": [
              "<Figure size 432x288 with 1 Axes>"
            ],
            "image/png": "[encoded data removed]"
          },
          "metadata": {
            "needs_background": "light"
          }
        },
        {
          "output_type": "display_data",
          "data": {
            "text/plain": [
              "<Figure size 432x288 with 1 Axes>"
            ],
            "image/png": "[encoded data removed]"
          },
          "metadata": {
            "needs_background": "light"
          }
        }
      ]
    },
    {
      "cell_type": "code",
      "source": [
        "## Predecimos las clases\n",
        "y_pred = model.predict(test)\n",
        "classes = np.argmax(y_pred, axis=1)\n",
        "classes = np.array(classes)\n",
        "classes = classes + 1\n",
        "print(classes)"
      ],
      "metadata": {
        "id": "C48ZiC5HxOh_",
        "colab": {
          "base_uri": "https://localhost:8080/"
        },
        "outputId": "080312ab-626b-421b-c30d-6603470dc711"
      },
      "execution_count": 11,
      "outputs": [
        {
          "output_type": "stream",
          "name": "stdout",
          "text": [
            "[10 10 10 ...  9  9 15]\n"
          ]
        }
      ]
    },
    {
      "cell_type": "code",
      "source": [
        "## Creamos el csv con los resultados\n",
        "d = {'id.jpg': sorted(os.listdir(\"Sentinel2LULC_Test\")), 'label': classes}\n",
        "df = pd.DataFrame(data=d)\n",
        "df.to_csv('EfficientNetB2_ImageNet.csv', index=False)\n",
        "files.download('EfficientNetB2_ImageNet.csv')"
      ],
      "metadata": {
        "id": "slVHuZ5cylPh",
        "colab": {
          "base_uri": "https://localhost:8080/",
          "height": 17
        },
        "outputId": "31795678-5ac1-4f2f-91ae-b542681501cd"
      },
      "execution_count": 12,
      "outputs": [
        {
          "output_type": "display_data",
          "data": {
            "text/plain": [
              "<IPython.core.display.Javascript object>"
            ],
            "application/javascript": [
              "\n",
              "    async function download(id, filename, size) {\n",
              "      if (!google.colab.kernel.accessAllowed) {\n",
              "        return;\n",
              "      }\n",
              "      const div = document.createElement('div');\n",
              "      const label = document.createElement('label');\n",
              "      label.textContent = `Downloading \"${filename}\": `;\n",
              "      div.appendChild(label);\n",
              "      const progress = document.createElement('progress');\n",
              "      progress.max = size;\n",
              "      div.appendChild(progress);\n",
              "      document.body.appendChild(div);\n",
              "\n",
              "      const buffers = [];\n",
              "      let downloaded = 0;\n",
              "\n",
              "      const channel = await google.colab.kernel.comms.open(id);\n",
              "      // Send a message to notify the kernel that we're ready.\n",
              "      channel.send({})\n",
              "\n",
              "      for await (const message of channel.messages) {\n",
              "        // Send a message to notify the kernel that we're ready.\n",
              "        channel.send({})\n",
              "        if (message.buffers) {\n",
              "          for (const buffer of message.buffers) {\n",
              "            buffers.push(buffer);\n",
              "            downloaded += buffer.byteLength;\n",
              "            progress.value = downloaded;\n",
              "          }\n",
              "        }\n",
              "      }\n",
              "      const blob = new Blob(buffers, {type: 'application/binary'});\n",
              "      const a = document.createElement('a');\n",
              "      a.href = window.URL.createObjectURL(blob);\n",
              "      a.download = filename;\n",
              "      div.appendChild(a);\n",
              "      a.click();\n",
              "      div.remove();\n",
              "    }\n",
              "  "
            ]
          },
          "metadata": {}
        },
        {
          "output_type": "display_data",
          "data": {
            "text/plain": [
              "<IPython.core.display.Javascript object>"
            ],
            "application/javascript": [
              "download(\"download_548053dc-5215-43db-b52c-f47e4a8579ba\", \"EfficientNetB2_ImageNet.csv\", 155478)"
            ]
          },
          "metadata": {}
        }
      ]
    }
  ]
}