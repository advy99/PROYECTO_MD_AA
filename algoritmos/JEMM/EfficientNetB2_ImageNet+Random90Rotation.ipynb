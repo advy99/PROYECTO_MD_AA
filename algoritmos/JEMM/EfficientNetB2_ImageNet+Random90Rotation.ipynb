{
  "nbformat": 4,
  "nbformat_minor": 0,
  "metadata": {
    "colab": {
      "name": "EfficientNetB2_ImageNet+Random90Rotation.ipynb",
      "provenance": [],
      "collapsed_sections": []
    },
    "kernelspec": {
      "name": "python3",
      "display_name": "Python 3"
    },
    "language_info": {
      "name": "python"
    },
    "accelerator": "GPU"
  },
  "cells": [
    {
      "cell_type": "code",
      "execution_count": null,
      "metadata": {
        "id": "wVQJG1nQgzMI"
      },
      "outputs": [],
      "source": [
        "## LIBRERIAS\n",
        "from google.colab import drive, files\n",
        "import tensorflow as tf \n",
        "import numpy as np\n",
        "import matplotlib.pyplot as plt\n",
        "import pandas as pd\n",
        "import mlflow\n",
        "import keras_tuner as kt\n",
        "from keras import Model, Sequential\n",
        "from keras.losses import SparseCategoricalCrossentropy\n",
        "from tensorflow.keras.optimizers import Adam\n",
        "from keras.callbacks import EarlyStopping\n",
        "from keras.layers import Conv2D, MaxPooling2D, Dense, Dropout, BatchNormalization, Rescaling, GlobalAveragePooling2D, RandomFlip, Input, RandomRotation\n",
        "from keras.preprocessing.image import ImageDataGenerator\n",
        "from sklearn.metrics import confusion_matrix\n",
        "import random\n",
        "import seaborn as sn\n",
        "import os\n",
        "random.seed(1234)"
      ]
    },
    {
      "cell_type": "code",
      "source": [
        "## Cargamos Drive e importamos las imágenes de train y test\n",
        "drive.mount('/content/drive')\n",
        "!unzip \"/content/drive/MyDrive/Juane/Sentinel2LULC_354.zip\" -d \"/content\"\n",
        "!unzip \"/content/drive/MyDrive/Juane/Sentinel2LULC_Test.zip\" -d \"/content\""
      ],
      "metadata": {
        "id": "DNTeEgLnh6eW"
      },
      "execution_count": null,
      "outputs": []
    },
    {
      "cell_type": "code",
      "source": [
        "## Renombramos las carpetas para que tf las lea en orden\n",
        "dirnames = sorted(os.listdir(\"Sentinel2LULC_354\"))\n",
        "for dir in dirnames:\n",
        "  newname = \"\"\n",
        "\n",
        "  if (len(dir.split('_')[0]) == 1):\n",
        "    newname = '0'+dir.split('_')[0]\n",
        "  else:\n",
        "    newname = dir.split('_')[0]\n",
        "\n",
        "  os.rename(\"Sentinel2LULC_354/\"+dir,\"Sentinel2LULC_354/\"+newname)"
      ],
      "metadata": {
        "id": "T4N68EG1RQhM"
      },
      "execution_count": null,
      "outputs": []
    },
    {
      "cell_type": "code",
      "source": [
        "## Leemos las imágenes de train, validacion y test\n",
        "\n",
        "training = tf.keras.utils.image_dataset_from_directory(\n",
        "  \"Sentinel2LULC_354\",\n",
        "  validation_split=0.2,\n",
        "  subset=\"training\",\n",
        "  seed=1234,\n",
        "  image_size=(224, 224),\n",
        "  batch_size = 32)\n",
        "\n",
        "validation = tf.keras.utils.image_dataset_from_directory(\n",
        "  \"Sentinel2LULC_354\",\n",
        "  validation_split=0.2,\n",
        "  subset=\"validation\",\n",
        "  seed=1234,\n",
        "  image_size=(224, 224),\n",
        "  batch_size = 32)\n",
        "\n",
        "test = tf.keras.utils.image_dataset_from_directory(\n",
        "  \"Sentinel2LULC_Test\",\n",
        "  shuffle=False,\n",
        "  labels=None,\n",
        "  image_size=(224, 224),\n",
        "  batch_size = 32)\n"
      ],
      "metadata": {
        "colab": {
          "base_uri": "https://localhost:8080/"
        },
        "id": "nhgvyzLloHL-",
        "outputId": "a7614619-1f71-4956-840a-d804d3a9d629"
      },
      "execution_count": null,
      "outputs": [
        {
          "output_type": "stream",
          "name": "stdout",
          "text": [
            "Found 10266 files belonging to 29 classes.\n",
            "Using 8213 files for training.\n",
            "Found 10266 files belonging to 29 classes.\n",
            "Using 2053 files for validation.\n",
            "Found 1618 files belonging to 1 classes.\n"
          ]
        }
      ]
    },
    {
      "cell_type": "code",
      "source": [
        "## Clase para rotar imagenes solamente en multiplos de 90 (https://errorsfixing.com/rotate-image-for-data-augmentation-using-tf-keras-only-in-specific-angles/)\n",
        "class Rotate90Randomly(tf.keras.layers.experimental.preprocessing.PreprocessingLayer):\n",
        "    def __init__(self):\n",
        "        super(Rotate90Randomly, self).__init__()\n",
        "\n",
        "    def call(self, x, training=False):\n",
        "        def random_rotate():\n",
        "            rotation_factor = tf.random.uniform([], minval=0,\n",
        "                                                maxval=4, dtype=tf.int32)\n",
        "            return tf.image.rot90(x, k=rotation_factor)\n",
        "\n",
        "        training = tf.constant(training, dtype=tf.bool)\n",
        "        \n",
        "        rotated = tf.cond(training, random_rotate, lambda: x)\n",
        "        rotated.set_shape(rotated.shape)\n",
        "        return rotated"
      ],
      "metadata": {
        "id": "NwIx2qWQi_BW"
      },
      "execution_count": null,
      "outputs": []
    },
    {
      "cell_type": "code",
      "source": [
        "## Estimación de los hiperparámetros del compilador\n",
        "\n",
        "def model_builder(hp):\n",
        "  '''\n",
        "  Args:\n",
        "    hp - Keras tuner object\n",
        "  '''\n",
        "  augmentation = Sequential([\n",
        "        RandomFlip(),\n",
        "        Rotate90Randomly()\n",
        "  ])\n",
        "  base_model = tf.keras.applications.EfficientNetB2(include_top=False,\n",
        "                                                    weights='imagenet',\n",
        "                                                    pooling='avg')\n",
        "  base_model.trainable = False\n",
        "  entrada = Input(shape=(224,224,3))\n",
        "  prediction_layer = Dense(29, activation=\"softmax\")\n",
        "  model = Sequential([\n",
        "    entrada,\n",
        "    augmentation,\n",
        "    base_model,\n",
        "    BatchNormalization(),\n",
        "    Dropout(0.2),\n",
        "    prediction_layer\n",
        "  ])\n",
        "\n",
        "  # Tuneamos el learning rate y el optimizador\n",
        "  hp_learning_rate = hp.Choice('learning_rate', values=[1e-2,1e-3,1e-4])\n",
        "  hp_amsgrad = hp.Choice('amsgrad', values=[True,False])\n",
        "  model.compile(optimizer=Adam(learning_rate=hp_learning_rate,amsgrad=hp_amsgrad),\n",
        "                loss=SparseCategoricalCrossentropy(from_logits=False),\n",
        "                metrics=['accuracy'])\n",
        "  return model\n",
        "\n",
        "# Instanciamos el tuner\n",
        "tuner = kt.Hyperband(model_builder, \n",
        "                     objective='val_accuracy', \n",
        "                     max_epochs=25,\n",
        "                     factor=3, \n",
        "                     directory=\"/content/drive/MyDrive/ColabNotebooks/Mineria_Aspectos_Avanzados/Competicion_Kaggle/\",\n",
        "                     project_name='khyperbandEfficientNetB2Rotation')\n",
        "\n",
        "print(tuner.search_space_summary())\n",
        "\n",
        "# Ejecutamos el tuner\n",
        "stop_early = tf.keras.callbacks.EarlyStopping(monitor='val_loss', patience=5)\n",
        "tuner.search(training,validation_data=validation,epochs=25, callbacks=[stop_early])\n",
        "best_hp=tuner.get_best_hyperparameters()[0]\n",
        "\n",
        "print(best_hp.get('learning_rate'))\n",
        "print(best_hp.get('amsgrad'))"
      ],
      "metadata": {
        "id": "K8O3n69OjD5V",
        "colab": {
          "base_uri": "https://localhost:8080/"
        },
        "outputId": "2004af04-0566-44d3-c097-06d61b29afb6"
      },
      "execution_count": null,
      "outputs": [
        {
          "output_type": "stream",
          "name": "stdout",
          "text": [
            "Trial 6 Complete [00h 04m 05s]\n",
            "val_accuracy: 0.687286913394928\n",
            "\n",
            "Best val_accuracy So Far: 0.6960545778274536\n",
            "Total elapsed time: 00h 24m 57s\n",
            "INFO:tensorflow:Oracle triggered exit\n",
            "0.001\n",
            "0\n"
          ]
        }
      ]
    },
    {
      "cell_type": "code",
      "source": [
        "## Función que muestra la evolución de las accuracy de train y validacion\n",
        "## durante el entrenamiento.\n",
        "def mostrarEvolucion(hist):\n",
        "\n",
        "  loss = hist.history['loss']\n",
        "  val_loss = hist.history['val_loss']\n",
        "  plt.plot(loss)\n",
        "  plt.plot(val_loss)\n",
        "  plt.legend(['Training loss', 'Validation loss'])\n",
        "  plt.show()\n",
        "\n",
        "  acc = hist.history['accuracy']\n",
        "  val_acc = hist.history['val_accuracy']\n",
        "  plt.plot(acc)\n",
        "  plt.plot(val_acc)\n",
        "  plt.legend(['Training accuracy', 'Validation accuracy'])\n",
        "  plt.show()\n",
        "\n",
        "## Creamos el modelo con las capas de Data Augmentation.\n",
        "## Solo RandomFlip parece ir bien. \n",
        "augmentation = Sequential([\n",
        "        RandomFlip(),\n",
        "        Rotate90Randomly()\n",
        "])\n",
        "\n",
        "\n",
        "## Vamos a entrenar usando la red EfficietNetB2\n",
        "base_model = tf.keras.applications.EfficientNetB2(include_top=False,\n",
        "                                                  weights='imagenet',\n",
        "                                                  pooling='avg')\n",
        "\n",
        "base_model.trainable = False\n",
        "\n",
        "## Capa de entrada\n",
        "entrada = Input(shape=(224,224,3))\n",
        "\n",
        "## Capa de normalizacion\n",
        "normalization = Rescaling(1./255)\n",
        "\n",
        "## Capa de salida\n",
        "prediction_layer = Dense(29, activation=\"softmax\")\n",
        "\n",
        "## Creamos nuestro modelo final juntando todos los submodelos/capas\n",
        "## anteriores\n",
        "model = Sequential([\n",
        "  entrada,\n",
        "  augmentation,\n",
        "  base_model,\n",
        "  BatchNormalization(),\n",
        "  Dropout(0.2),\n",
        "  prediction_layer\n",
        "])\n",
        "\n",
        "opt = Adam(learning_rate=0.001)\n",
        "      \n",
        "model.compile(loss=SparseCategoricalCrossentropy(from_logits=False),optimizer=opt, \n",
        "                  metrics=['accuracy'])\n",
        "\n",
        "mlflow.set_experiment(\"EfficientNetB2 con DataAugmentation (ImageNet)\")\n",
        "mlflow.tensorflow.autolog()\n",
        "\n",
        "with mlflow.start_run():\n",
        "  callback = EarlyStopping(patience=5,restore_best_weights=True)\n",
        "  history = model.fit(training,\n",
        "                    epochs=25,\n",
        "                    validation_data=validation,\n",
        "                    callbacks=callback)\n",
        "\n",
        "  mostrarEvolucion(history)"
      ],
      "metadata": {
        "colab": {
          "base_uri": "https://localhost:8080/",
          "height": 1000
        },
        "id": "NWSi0H18USvE",
        "outputId": "08f3c53b-2120-4c5c-eb24-44144cb8abf2"
      },
      "execution_count": null,
      "outputs": [
        {
          "output_type": "stream",
          "name": "stderr",
          "text": [
            "2022/03/18 17:05:54 INFO mlflow.tracking.fluent: Experiment with name 'EfficientNetB2 con DataAugmentation (ImageNet)' does not exist. Creating a new experiment.\n"
          ]
        },
        {
          "output_type": "stream",
          "name": "stdout",
          "text": [
            "Epoch 1/25\n",
            "257/257 [==============================] - 80s 267ms/step - loss: 1.6845 - accuracy: 0.5042 - val_loss: 1.3310 - val_accuracy: 0.6410\n",
            "Epoch 2/25\n",
            "257/257 [==============================] - 66s 256ms/step - loss: 1.1526 - accuracy: 0.6346 - val_loss: 0.9930 - val_accuracy: 0.6814\n",
            "Epoch 3/25\n",
            "257/257 [==============================] - 66s 255ms/step - loss: 1.0185 - accuracy: 0.6755 - val_loss: 0.9147 - val_accuracy: 0.6990\n",
            "Epoch 4/25\n",
            "257/257 [==============================] - 66s 256ms/step - loss: 0.9684 - accuracy: 0.6867 - val_loss: 0.9194 - val_accuracy: 0.6980\n",
            "Epoch 5/25\n",
            "257/257 [==============================] - 66s 257ms/step - loss: 0.9223 - accuracy: 0.6940 - val_loss: 0.8994 - val_accuracy: 0.7087\n",
            "Epoch 6/25\n",
            "257/257 [==============================] - 67s 258ms/step - loss: 0.8580 - accuracy: 0.7150 - val_loss: 0.8456 - val_accuracy: 0.7199\n",
            "Epoch 7/25\n",
            "257/257 [==============================] - 67s 258ms/step - loss: 0.8521 - accuracy: 0.7111 - val_loss: 0.8435 - val_accuracy: 0.7151\n",
            "Epoch 8/25\n",
            "257/257 [==============================] - 67s 258ms/step - loss: 0.8201 - accuracy: 0.7202 - val_loss: 0.8333 - val_accuracy: 0.7360\n",
            "Epoch 9/25\n",
            "257/257 [==============================] - 66s 258ms/step - loss: 0.8224 - accuracy: 0.7312 - val_loss: 0.8152 - val_accuracy: 0.7399\n",
            "Epoch 10/25\n",
            "257/257 [==============================] - 66s 258ms/step - loss: 0.8102 - accuracy: 0.7252 - val_loss: 0.7982 - val_accuracy: 0.7487\n",
            "Epoch 11/25\n",
            "257/257 [==============================] - 66s 257ms/step - loss: 0.8085 - accuracy: 0.7332 - val_loss: 0.8173 - val_accuracy: 0.7311\n",
            "Epoch 12/25\n",
            "257/257 [==============================] - 66s 256ms/step - loss: 0.7946 - accuracy: 0.7375 - val_loss: 0.8147 - val_accuracy: 0.7418\n",
            "Epoch 13/25\n",
            "257/257 [==============================] - 66s 258ms/step - loss: 0.7643 - accuracy: 0.7385 - val_loss: 0.7948 - val_accuracy: 0.7491\n",
            "Epoch 14/25\n",
            "257/257 [==============================] - 66s 257ms/step - loss: 0.7543 - accuracy: 0.7486 - val_loss: 0.8128 - val_accuracy: 0.7389\n",
            "Epoch 15/25\n",
            "257/257 [==============================] - 66s 257ms/step - loss: 0.7804 - accuracy: 0.7424 - val_loss: 0.8059 - val_accuracy: 0.7418\n",
            "Epoch 16/25\n",
            "257/257 [==============================] - 66s 257ms/step - loss: 0.7422 - accuracy: 0.7486 - val_loss: 0.8021 - val_accuracy: 0.7560\n",
            "Epoch 17/25\n",
            "257/257 [==============================] - 66s 256ms/step - loss: 0.7530 - accuracy: 0.7487 - val_loss: 0.8115 - val_accuracy: 0.7443\n",
            "Epoch 18/25\n",
            "257/257 [==============================] - 66s 257ms/step - loss: 0.7409 - accuracy: 0.7512 - val_loss: 0.7841 - val_accuracy: 0.7462\n",
            "Epoch 19/25\n",
            "257/257 [==============================] - 66s 256ms/step - loss: 0.7299 - accuracy: 0.7560 - val_loss: 0.8147 - val_accuracy: 0.7355\n",
            "Epoch 20/25\n",
            "257/257 [==============================] - 66s 255ms/step - loss: 0.7196 - accuracy: 0.7523 - val_loss: 0.8513 - val_accuracy: 0.7248\n",
            "Epoch 21/25\n",
            "257/257 [==============================] - 66s 255ms/step - loss: 0.7336 - accuracy: 0.7538 - val_loss: 0.8593 - val_accuracy: 0.7292\n",
            "Epoch 22/25\n",
            "257/257 [==============================] - 66s 255ms/step - loss: 0.7253 - accuracy: 0.7538 - val_loss: 0.8074 - val_accuracy: 0.7433\n",
            "Epoch 23/25\n",
            "257/257 [==============================] - 66s 256ms/step - loss: 0.7320 - accuracy: 0.7544 - val_loss: 0.7990 - val_accuracy: 0.7555\n"
          ]
        },
        {
          "output_type": "stream",
          "name": "stderr",
          "text": [
            "2022/03/18 17:36:10 WARNING mlflow.utils.autologging_utils: Encountered unexpected error during tensorflow autologging: 'EarlyStopping' object is not iterable\n"
          ]
        },
        {
          "output_type": "display_data",
          "data": {
            "text/plain": [
              "<Figure size 432x288 with 1 Axes>"
            ],
            "image/png": "[encoded data removed]"
          },
          "metadata": {
            "needs_background": "light"
          }
        },
        {
          "output_type": "display_data",
          "data": {
            "text/plain": [
              "<Figure size 432x288 with 1 Axes>"
            ],
            "image/png": "[encoded data removed]"
          },
          "metadata": {
            "needs_background": "light"
          }
        }
      ]
    },
    {
      "cell_type": "code",
      "source": [
        "## FINE TUNING: Volvemos a entrenar descongelando algunas capas (menos las BatchNormalization)\n",
        "\n",
        "def unfreeze_model(model):\n",
        "    for layer in model.layers[-20:]:\n",
        "        if not isinstance(layer, BatchNormalization):\n",
        "            layer.trainable = True\n",
        "\n",
        "    opt = Adam(learning_rate=1e-4)\n",
        "    model.compile(loss=SparseCategoricalCrossentropy(from_logits=False),optimizer=opt, \n",
        "                  metrics=['accuracy'])\n",
        "\n",
        "\n",
        "unfreeze_model(model)\n",
        "\n",
        "with mlflow.start_run():\n",
        "  callback = EarlyStopping(patience=5,restore_best_weights=True)\n",
        "  history = model.fit(training,\n",
        "                    epochs=25,\n",
        "                    validation_data=validation,\n",
        "                    callbacks=callback)\n",
        "\n",
        "  mostrarEvolucion(history)"
      ],
      "metadata": {
        "colab": {
          "base_uri": "https://localhost:8080/",
          "height": 1000
        },
        "id": "WEy3yUbR2DoP",
        "outputId": "eeadb701-ad30-42f0-f2d3-a4a135ad3035"
      },
      "execution_count": null,
      "outputs": [
        {
          "output_type": "stream",
          "name": "stdout",
          "text": [
            "Epoch 1/25\n",
            "257/257 [==============================] - 265s 961ms/step - loss: 1.5036 - accuracy: 0.5897 - val_loss: 2.2006 - val_accuracy: 0.4228\n",
            "Epoch 2/25\n",
            "257/257 [==============================] - 240s 934ms/step - loss: 0.8120 - accuracy: 0.7450 - val_loss: 0.6651 - val_accuracy: 0.7803\n",
            "Epoch 3/25\n",
            "257/257 [==============================] - 240s 933ms/step - loss: 0.5976 - accuracy: 0.8026 - val_loss: 0.4975 - val_accuracy: 0.8212\n",
            "Epoch 4/25\n",
            "257/257 [==============================] - 240s 932ms/step - loss: 0.4988 - accuracy: 0.8299 - val_loss: 0.5198 - val_accuracy: 0.8237\n",
            "Epoch 5/25\n",
            "257/257 [==============================] - 239s 931ms/step - loss: 0.4508 - accuracy: 0.8478 - val_loss: 0.4629 - val_accuracy: 0.8456\n",
            "Epoch 6/25\n",
            "257/257 [==============================] - 240s 933ms/step - loss: 0.3803 - accuracy: 0.8726 - val_loss: 0.3895 - val_accuracy: 0.8656\n",
            "Epoch 7/25\n",
            "257/257 [==============================] - 240s 932ms/step - loss: 0.3460 - accuracy: 0.8796 - val_loss: 0.4316 - val_accuracy: 0.8539\n",
            "Epoch 8/25\n",
            "257/257 [==============================] - 240s 932ms/step - loss: 0.3024 - accuracy: 0.8937 - val_loss: 0.3759 - val_accuracy: 0.8753\n",
            "Epoch 9/25\n",
            "257/257 [==============================] - 239s 930ms/step - loss: 0.2821 - accuracy: 0.9017 - val_loss: 0.3600 - val_accuracy: 0.8782\n",
            "Epoch 10/25\n",
            "257/257 [==============================] - 240s 931ms/step - loss: 0.2700 - accuracy: 0.9010 - val_loss: 0.3994 - val_accuracy: 0.8631\n",
            "Epoch 11/25\n",
            "257/257 [==============================] - 240s 931ms/step - loss: 0.2389 - accuracy: 0.9154 - val_loss: 0.3735 - val_accuracy: 0.8768\n",
            "Epoch 12/25\n",
            "257/257 [==============================] - 239s 931ms/step - loss: 0.2176 - accuracy: 0.9252 - val_loss: 0.3704 - val_accuracy: 0.8816\n",
            "Epoch 13/25\n",
            "257/257 [==============================] - 239s 929ms/step - loss: 0.2061 - accuracy: 0.9284 - val_loss: 0.3740 - val_accuracy: 0.8889\n",
            "Epoch 14/25\n",
            "257/257 [==============================] - 240s 932ms/step - loss: 0.1929 - accuracy: 0.9305 - val_loss: 0.3640 - val_accuracy: 0.8885\n"
          ]
        },
        {
          "output_type": "stream",
          "name": "stderr",
          "text": [
            "2022/03/18 18:36:05 WARNING mlflow.utils.autologging_utils: Encountered unexpected error during tensorflow autologging: 'EarlyStopping' object is not iterable\n"
          ]
        },
        {
          "output_type": "display_data",
          "data": {
            "text/plain": [
              "<Figure size 432x288 with 1 Axes>"
            ],
            "image/png": "[encoded data removed]"
          },
          "metadata": {
            "needs_background": "light"
          }
        },
        {
          "output_type": "display_data",
          "data": {
            "text/plain": [
              "<Figure size 432x288 with 1 Axes>"
            ],
            "image/png": "[encoded data removed]"
          },
          "metadata": {
            "needs_background": "light"
          }
        }
      ]
    },
    {
      "cell_type": "code",
      "source": [
        "## Predecimos las clases\n",
        "y_pred = model.predict(test)\n",
        "classes = np.argmax(y_pred, axis=1)\n",
        "classes = np.array(classes)\n",
        "classes = classes + 1\n",
        "print(classes)"
      ],
      "metadata": {
        "id": "C48ZiC5HxOh_",
        "colab": {
          "base_uri": "https://localhost:8080/"
        },
        "outputId": "ae5dadac-81a0-4d83-d676-bd0c202774d6"
      },
      "execution_count": null,
      "outputs": [
        {
          "output_type": "stream",
          "name": "stdout",
          "text": [
            "[10 10 10 ...  9  9 15]\n"
          ]
        }
      ]
    },
    {
      "cell_type": "code",
      "source": [
        "## Creamos el csv con los resultados\n",
        "d = {'id.jpg': sorted(os.listdir(\"Sentinel2LULC_Test\")), 'label': classes}\n",
        "df = pd.DataFrame(data=d)\n",
        "df.to_csv('EfficientNetB2_ImageNet_Random90Rotation.csv', index=False)\n",
        "files.download('EfficientNetB2_ImageNet_Random90Rotation.csv')"
      ],
      "metadata": {
        "id": "slVHuZ5cylPh",
        "colab": {
          "base_uri": "https://localhost:8080/",
          "height": 17
        },
        "outputId": "8e4fa74e-29fb-4e66-b0d8-b1e676abc056"
      },
      "execution_count": null,
      "outputs": [
        {
          "output_type": "display_data",
          "data": {
            "text/plain": [
              "<IPython.core.display.Javascript object>"
            ],
            "application/javascript": [
              "\n",
              "    async function download(id, filename, size) {\n",
              "      if (!google.colab.kernel.accessAllowed) {\n",
              "        return;\n",
              "      }\n",
              "      const div = document.createElement('div');\n",
              "      const label = document.createElement('label');\n",
              "      label.textContent = `Downloading \"${filename}\": `;\n",
              "      div.appendChild(label);\n",
              "      const progress = document.createElement('progress');\n",
              "      progress.max = size;\n",
              "      div.appendChild(progress);\n",
              "      document.body.appendChild(div);\n",
              "\n",
              "      const buffers = [];\n",
              "      let downloaded = 0;\n",
              "\n",
              "      const channel = await google.colab.kernel.comms.open(id);\n",
              "      // Send a message to notify the kernel that we're ready.\n",
              "      channel.send({})\n",
              "\n",
              "      for await (const message of channel.messages) {\n",
              "        // Send a message to notify the kernel that we're ready.\n",
              "        channel.send({})\n",
              "        if (message.buffers) {\n",
              "          for (const buffer of message.buffers) {\n",
              "            buffers.push(buffer);\n",
              "            downloaded += buffer.byteLength;\n",
              "            progress.value = downloaded;\n",
              "          }\n",
              "        }\n",
              "      }\n",
              "      const blob = new Blob(buffers, {type: 'application/binary'});\n",
              "      const a = document.createElement('a');\n",
              "      a.href = window.URL.createObjectURL(blob);\n",
              "      a.download = filename;\n",
              "      div.appendChild(a);\n",
              "      a.click();\n",
              "      div.remove();\n",
              "    }\n",
              "  "
            ]
          },
          "metadata": {}
        },
        {
          "output_type": "display_data",
          "data": {
            "text/plain": [
              "<IPython.core.display.Javascript object>"
            ],
            "application/javascript": [
              "download(\"download_02bcc2b8-3160-4522-b6c5-3b882b7f7555\", \"EfficientNetB2_ImageNet_Random90Rotation.csv\", 155479)"
            ]
          },
          "metadata": {}
        }
      ]
    },
    {
      "cell_type": "code",
      "source": [
        "## Sacamos la matriz de confusion\n",
        "\n",
        "clases = []\n",
        "dirname = sorted(os.listdir(\"Sentinel2LULC_Test\"))\n",
        "for names in dirname:\n",
        "  clases.append(names.split('_')[0])\n",
        "\n",
        "clases = [int(x) for x in clases]\n",
        "\n",
        "matrix = confusion_matrix(clases, list(classes),labels=[i for i in range(10,20)]+[1]+[i for i in range(20,30)]+[i for i in range(2,10)])\n",
        "\n",
        "df_cm = pd.DataFrame(matrix, index = [i for i in range(10,20)]+[1]+[i for i in range(20,30)]+[i for i in range(2,10)],\n",
        "                  columns = [i for i in range(10,20)]+[1]+[i for i in range(20,30)]+[i for i in range(2,10)])\n",
        "plt.figure(figsize = (10,7))\n",
        "sn.heatmap(df_cm, annot=True)"
      ],
      "metadata": {
        "colab": {
          "base_uri": "https://localhost:8080/",
          "height": 445
        },
        "id": "uiFEfsBMU3jB",
        "outputId": "fcc221bb-08b6-49c0-a793-8f134eecf24c"
      },
      "execution_count": null,
      "outputs": [
        {
          "output_type": "execute_result",
          "data": {
            "text/plain": [
              "<matplotlib.axes._subplots.AxesSubplot at 0x7f9d9b5051d0>"
            ]
          },
          "metadata": {},
          "execution_count": 42
        },
        {
          "output_type": "display_data",
          "data": {
            "text/plain": [
              "<Figure size 720x504 with 2 Axes>"
            ],
            "image/png": "[encoded data removed]"
          },
          "metadata": {
            "needs_background": "light"
          }
        }
      ]
    }
  ]
}