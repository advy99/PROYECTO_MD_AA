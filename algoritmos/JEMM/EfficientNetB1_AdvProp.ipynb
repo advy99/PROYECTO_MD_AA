{
  "nbformat": 4,
  "nbformat_minor": 0,
  "metadata": {
    "colab": {
      "name": "EfficientNetB1_AdvProp.ipynb",
      "provenance": [],
      "collapsed_sections": []
    },
    "kernelspec": {
      "name": "python3",
      "display_name": "Python 3"
    },
    "language_info": {
      "name": "python"
    },
    "accelerator": "GPU"
  },
  "cells": [
    {
      "cell_type": "code",
      "execution_count": 3,
      "metadata": {
        "id": "wVQJG1nQgzMI"
      },
      "outputs": [],
      "source": [
        "## LIBRERIAS\n",
        "from google.colab import drive, files\n",
        "import tensorflow as tf \n",
        "import numpy as np\n",
        "import matplotlib.pyplot as plt\n",
        "import pandas as pd\n",
        "import mlflow\n",
        "from keras import Model, Sequential\n",
        "from keras.losses import SparseCategoricalCrossentropy\n",
        "from tensorflow.keras.optimizers import Adam\n",
        "from keras.callbacks import EarlyStopping\n",
        "from keras.layers import Conv2D, MaxPooling2D, Dense, Dropout, BatchNormalization, Rescaling, GlobalAveragePooling2D, RandomFlip, Input, RandomContrast\n",
        "from keras.preprocessing.image import ImageDataGenerator\n",
        "import random\n",
        "import os\n",
        "random.seed(1234)"
      ]
    },
    {
      "cell_type": "code",
      "source": [
        "## Cargamos Drive e importamos las imágenes de train y test\n",
        "drive.mount('/content/drive')\n",
        "!unzip \"/content/drive/MyDrive/ColabNotebooks/Mineria_Aspectos_Avanzados/Competicion_Kaggle/Sentinel2LULC_354.zip\" -d \"/content\"\n",
        "!unzip \"/content/drive/MyDrive/ColabNotebooks/Mineria_Aspectos_Avanzados/Competicion_Kaggle/Sentinel2LULC_Test.zip\" -d \"/content\""
      ],
      "metadata": {
        "id": "DNTeEgLnh6eW"
      },
      "execution_count": null,
      "outputs": []
    },
    {
      "cell_type": "code",
      "source": [
        "## Descargamos y descomprimimos los pesos \"noisy student\" más recientes\n",
        "## de EfficientNetB1\n",
        "!wget https://storage.googleapis.com/cloud-tpu-checkpoints/efficientnet/advprop/efficientnet-b1.tar.gz\n",
        "!tar -xf efficientnet-b1.tar.gz -C /content/drive/MyDrive/ColabNotebooks/Mineria_Aspectos_Avanzados/Competicion_Kaggle"
      ],
      "metadata": {
        "colab": {
          "base_uri": "https://localhost:8080/"
        },
        "id": "mmQXGIHml2k3",
        "outputId": "1f48a07b-6d78-4a3b-dc8c-a09f7ee83f6d"
      },
      "execution_count": null,
      "outputs": [
        {
          "output_type": "stream",
          "name": "stdout",
          "text": [
            "--2022-03-14 18:53:05--  https://storage.googleapis.com/cloud-tpu-checkpoints/efficientnet/advprop/efficientnet-b1.tar.gz\n",
            "Resolving storage.googleapis.com (storage.googleapis.com)... 74.125.140.128, 108.177.15.128, 173.194.76.128, ...\n",
            "Connecting to storage.googleapis.com (storage.googleapis.com)|74.125.140.128|:443... connected.\n",
            "HTTP request sent, awaiting response... 200 OK\n",
            "Length: 57868007 (55M) [application/gzip]\n",
            "Saving to: ‘efficientnet-b1.tar.gz’\n",
            "\n",
            "efficientnet-b1.tar 100%[===================>]  55.19M  50.2MB/s    in 1.1s    \n",
            "\n",
            "2022-03-14 18:53:06 (50.2 MB/s) - ‘efficientnet-b1.tar.gz’ saved [57868007/57868007]\n",
            "\n"
          ]
        }
      ]
    },
    {
      "cell_type": "code",
      "source": [
        "## Convertimos los pesos a formato h5\n",
        "!python /content/drive/MyDrive/ColabNotebooks/Mineria_Aspectos_Avanzados/Competicion_Kaggle/efficientnet_weight_update_util.py --model b1 --notop --ckpt \\\n",
        "        /content/drive/MyDrive/ColabNotebooks/Mineria_Aspectos_Avanzados/Competicion_Kaggle/efficientnet-b1/model.ckpt --o /content/drive/MyDrive/ColabNotebooks/Mineria_Aspectos_Avanzados/Competicion_Kaggle/efficientnetb1_notop.h5"
      ],
      "metadata": {
        "id": "aDS7hWITnE4A"
      },
      "execution_count": null,
      "outputs": []
    },
    {
      "cell_type": "code",
      "source": [
        "## Renombramos las carpetas para que tf las lea en orden\n",
        "dirnames = sorted(os.listdir(\"Sentinel2LULC_354\"))\n",
        "for dir in dirnames:\n",
        "  newname = \"\"\n",
        "\n",
        "  if (len(dir.split('_')[0]) == 1):\n",
        "    newname = '0'+dir.split('_')[0]\n",
        "  else:\n",
        "    newname = dir.split('_')[0]\n",
        "\n",
        "  os.rename(\"Sentinel2LULC_354/\"+dir,\"Sentinel2LULC_354/\"+newname)"
      ],
      "metadata": {
        "id": "T4N68EG1RQhM"
      },
      "execution_count": 5,
      "outputs": []
    },
    {
      "cell_type": "code",
      "source": [
        "## Leemos las imágenes de train, validacion y test\n",
        "\n",
        "training = tf.keras.utils.image_dataset_from_directory(\n",
        "  \"Sentinel2LULC_354\",\n",
        "  validation_split=0.2,\n",
        "  subset=\"training\",\n",
        "  seed=1234,\n",
        "  image_size=(224, 224),\n",
        "  batch_size = 32)\n",
        "\n",
        "validation = tf.keras.utils.image_dataset_from_directory(\n",
        "  \"Sentinel2LULC_354\",\n",
        "  validation_split=0.2,\n",
        "  subset=\"validation\",\n",
        "  seed=1234,\n",
        "  image_size=(224, 224),\n",
        "  batch_size = 32)\n",
        "\n",
        "test = tf.keras.utils.image_dataset_from_directory(\n",
        "  \"Sentinel2LULC_Test\",\n",
        "  shuffle=False,\n",
        "  labels=None,\n",
        "  image_size=(224, 224),\n",
        "  batch_size = 32)\n"
      ],
      "metadata": {
        "colab": {
          "base_uri": "https://localhost:8080/"
        },
        "id": "nhgvyzLloHL-",
        "outputId": "2ec56201-e7b1-422c-a76f-635cb42a7624"
      },
      "execution_count": 6,
      "outputs": [
        {
          "output_type": "stream",
          "name": "stdout",
          "text": [
            "Found 10266 files belonging to 29 classes.\n",
            "Using 8213 files for training.\n",
            "Found 10266 files belonging to 29 classes.\n",
            "Using 2053 files for validation.\n",
            "Found 1618 files belonging to 1 classes.\n"
          ]
        }
      ]
    },
    {
      "cell_type": "code",
      "source": [
        "## Función que muestra la evolución de las accuracy de train y validacion\n",
        "## durante el entrenamiento.\n",
        "def mostrarEvolucion(hist):\n",
        "\n",
        "  loss = hist.history['loss']\n",
        "  val_loss = hist.history['val_loss']\n",
        "  plt.plot(loss)\n",
        "  plt.plot(val_loss)\n",
        "  plt.legend(['Training loss', 'Validation loss'])\n",
        "  plt.show()\n",
        "\n",
        "  acc = hist.history['accuracy']\n",
        "  val_acc = hist.history['val_accuracy']\n",
        "  plt.plot(acc)\n",
        "  plt.plot(val_acc)\n",
        "  plt.legend(['Training accuracy', 'Validation accuracy'])\n",
        "  plt.show()\n",
        "\n",
        "## Creamos el modelo con las capas de Data Augmentation.\n",
        "## Solo RandomFlip parece ir bien. \n",
        "augmentation = Sequential([\n",
        "        RandomFlip()\n",
        "])\n",
        "\n",
        "## Vamos a entrenar usando la red EfficietNetB1\n",
        "base_model = tf.keras.applications.EfficientNetB1(include_top=False,\n",
        "                                                  weights='/content/drive/MyDrive/ColabNotebooks/Mineria_Aspectos_Avanzados/Competicion_Kaggle/efficientnetb1_notop.h5',\n",
        "                                                  pooling='avg')\n",
        "\n",
        "base_model.trainable = False\n",
        "\n",
        "## Capa de entrada\n",
        "entrada = Input(shape=(224,224,3))\n",
        "\n",
        "## Capa de normalizacion\n",
        "normalization = Rescaling(1./255)\n",
        "\n",
        "## Capa de salida\n",
        "prediction_layer = Dense(29, activation=\"softmax\")\n",
        "\n",
        "## Creamos nuestro modelo final juntando todos los submodelos/capas\n",
        "## anteriores\n",
        "model = Sequential([\n",
        "  entrada,\n",
        "  augmentation,\n",
        "  base_model,\n",
        "  BatchNormalization(),\n",
        "  Dropout(0.2),\n",
        "  prediction_layer\n",
        "])\n",
        "\n",
        "opt = Adam(learning_rate=1e-2)\n",
        "      \n",
        "model.compile(loss=SparseCategoricalCrossentropy(from_logits=False),optimizer=opt, \n",
        "                  metrics=['accuracy'])\n",
        "\n",
        "mlflow.set_experiment(\"EfficientNetB1 con DataAugmentation (AdvProp)\")\n",
        "mlflow.tensorflow.autolog()\n",
        "\n",
        "with mlflow.start_run():\n",
        "  callback = EarlyStopping(patience=3,restore_best_weights=True)\n",
        "  history = model.fit(training,\n",
        "                    epochs=25,\n",
        "                    validation_data=validation,\n",
        "                    callbacks=callback)\n",
        "\n",
        "  mostrarEvolucion(history)"
      ],
      "metadata": {
        "colab": {
          "base_uri": "https://localhost:8080/",
          "height": 898
        },
        "id": "NWSi0H18USvE",
        "outputId": "564e0150-402b-41dc-dd2c-b14405ced3a5"
      },
      "execution_count": 7,
      "outputs": [
        {
          "output_type": "stream",
          "name": "stderr",
          "text": [
            "2022/03/17 10:55:11 INFO mlflow.tracking.fluent: Experiment with name 'EfficientNetB1 con DataAugmentation (AdvProp)' does not exist. Creating a new experiment.\n"
          ]
        },
        {
          "output_type": "stream",
          "name": "stdout",
          "text": [
            "Epoch 1/25\n",
            "257/257 [==============================] - 52s 129ms/step - loss: 2.3416 - accuracy: 0.5404 - val_loss: 1.2731 - val_accuracy: 0.6201\n",
            "Epoch 2/25\n",
            "257/257 [==============================] - 31s 120ms/step - loss: 1.4110 - accuracy: 0.6443 - val_loss: 1.1425 - val_accuracy: 0.6732\n",
            "Epoch 3/25\n",
            "257/257 [==============================] - 32s 122ms/step - loss: 1.1682 - accuracy: 0.6661 - val_loss: 1.0675 - val_accuracy: 0.6878\n",
            "Epoch 4/25\n",
            "257/257 [==============================] - 32s 124ms/step - loss: 1.0411 - accuracy: 0.6856 - val_loss: 0.9552 - val_accuracy: 0.6980\n",
            "Epoch 5/25\n",
            "257/257 [==============================] - 32s 123ms/step - loss: 0.9855 - accuracy: 0.6868 - val_loss: 0.9953 - val_accuracy: 0.6834\n",
            "Epoch 6/25\n",
            "257/257 [==============================] - 32s 122ms/step - loss: 0.9366 - accuracy: 0.7016 - val_loss: 0.9780 - val_accuracy: 0.6897\n",
            "Epoch 7/25\n",
            "257/257 [==============================] - 32s 123ms/step - loss: 0.9261 - accuracy: 0.7102 - val_loss: 0.9238 - val_accuracy: 0.7199\n",
            "Epoch 8/25\n",
            "257/257 [==============================] - 32s 122ms/step - loss: 0.9423 - accuracy: 0.7013 - val_loss: 0.9254 - val_accuracy: 0.7302\n",
            "Epoch 9/25\n",
            "257/257 [==============================] - 31s 122ms/step - loss: 0.9507 - accuracy: 0.7042 - val_loss: 0.9372 - val_accuracy: 0.7233\n",
            "Epoch 10/25\n",
            "257/257 [==============================] - 32s 123ms/step - loss: 0.9584 - accuracy: 0.7018 - val_loss: 0.9317 - val_accuracy: 0.7253\n"
          ]
        },
        {
          "output_type": "stream",
          "name": "stderr",
          "text": [
            "2022/03/17 11:02:22 WARNING mlflow.utils.autologging_utils: Encountered unexpected error during tensorflow autologging: 'EarlyStopping' object is not iterable\n"
          ]
        },
        {
          "output_type": "display_data",
          "data": {
            "text/plain": [
              "<Figure size 432x288 with 1 Axes>"
            ],
            "image/png": "[encoded data removed]"
          },
          "metadata": {
            "needs_background": "light"
          }
        },
        {
          "output_type": "display_data",
          "data": {
            "text/plain": [
              "<Figure size 432x288 with 1 Axes>"
            ],
            "image/png": "[encoded data removed]"
          },
          "metadata": {
            "needs_background": "light"
          }
        }
      ]
    },
    {
      "cell_type": "code",
      "source": [
        "## FINE TUNING: Volvemos a entrenar descongelando algunas capas (menos las BatchNormalization)\n",
        "\n",
        "def unfreeze_model(model):\n",
        "    for layer in model.layers[-20:]:\n",
        "        if not isinstance(layer, BatchNormalization):\n",
        "            layer.trainable = True\n",
        "\n",
        "    opt = Adam(learning_rate=1e-4)\n",
        "    model.compile(loss=SparseCategoricalCrossentropy(from_logits=False),optimizer=opt, \n",
        "                  metrics=['accuracy'])\n",
        "\n",
        "\n",
        "unfreeze_model(model)\n",
        "\n",
        "with mlflow.start_run():\n",
        "  callback = EarlyStopping(patience=3,restore_best_weights=True)\n",
        "  history = model.fit(training,\n",
        "                    epochs=10,\n",
        "                    validation_data=validation,\n",
        "                    callbacks=callback)\n",
        "\n",
        "  mostrarEvolucion(history)"
      ],
      "metadata": {
        "colab": {
          "base_uri": "https://localhost:8080/",
          "height": 808
        },
        "id": "WEy3yUbR2DoP",
        "outputId": "4b95e985-9f88-4b84-bd81-30e56fc96f8d"
      },
      "execution_count": 8,
      "outputs": [
        {
          "output_type": "stream",
          "name": "stdout",
          "text": [
            "Epoch 1/10\n",
            "257/257 [==============================] - 141s 496ms/step - loss: 1.3084 - accuracy: 0.6344 - val_loss: 0.6821 - val_accuracy: 0.7823\n",
            "Epoch 2/10\n",
            "257/257 [==============================] - 125s 484ms/step - loss: 0.6553 - accuracy: 0.7857 - val_loss: 0.4409 - val_accuracy: 0.8583\n",
            "Epoch 3/10\n",
            "257/257 [==============================] - 125s 485ms/step - loss: 0.5189 - accuracy: 0.8315 - val_loss: 0.4102 - val_accuracy: 0.8622\n",
            "Epoch 4/10\n",
            "257/257 [==============================] - 125s 484ms/step - loss: 0.4327 - accuracy: 0.8518 - val_loss: 0.3625 - val_accuracy: 0.8846\n",
            "Epoch 5/10\n",
            "257/257 [==============================] - 125s 485ms/step - loss: 0.3518 - accuracy: 0.8768 - val_loss: 0.3584 - val_accuracy: 0.8724\n",
            "Epoch 6/10\n",
            "257/257 [==============================] - 124s 482ms/step - loss: 0.3114 - accuracy: 0.8920 - val_loss: 0.3585 - val_accuracy: 0.8709\n",
            "Epoch 7/10\n",
            "257/257 [==============================] - 124s 483ms/step - loss: 0.3056 - accuracy: 0.8953 - val_loss: 0.3847 - val_accuracy: 0.8821\n",
            "Epoch 8/10\n",
            "257/257 [==============================] - 125s 485ms/step - loss: 0.2765 - accuracy: 0.9048 - val_loss: 0.3836 - val_accuracy: 0.8738\n"
          ]
        },
        {
          "output_type": "stream",
          "name": "stderr",
          "text": [
            "2022/03/17 11:21:12 WARNING mlflow.utils.autologging_utils: Encountered unexpected error during tensorflow autologging: 'EarlyStopping' object is not iterable\n"
          ]
        },
        {
          "output_type": "display_data",
          "data": {
            "text/plain": [
              "<Figure size 432x288 with 1 Axes>"
            ],
            "image/png": "[encoded data removed]"
          },
          "metadata": {
            "needs_background": "light"
          }
        },
        {
          "output_type": "display_data",
          "data": {
            "text/plain": [
              "<Figure size 432x288 with 1 Axes>"
            ],
            "image/png": "[encoded data removed]"
          },
          "metadata": {
            "needs_background": "light"
          }
        }
      ]
    },
    {
      "cell_type": "code",
      "source": [
        "## Predecimos las clases\n",
        "y_pred = model.predict(test)\n",
        "classes = np.argmax(y_pred, axis=1)\n",
        "classes = np.array(classes)\n",
        "classes = classes + 1\n",
        "print(classes)"
      ],
      "metadata": {
        "id": "C48ZiC5HxOh_",
        "colab": {
          "base_uri": "https://localhost:8080/"
        },
        "outputId": "d8fa0aff-7980-4412-ba54-49492ad33830"
      },
      "execution_count": 9,
      "outputs": [
        {
          "output_type": "stream",
          "name": "stdout",
          "text": [
            "[10 10 10 ...  9  9  9]\n"
          ]
        }
      ]
    },
    {
      "cell_type": "code",
      "source": [
        "## Creamos el csv con los resultados\n",
        "d = {'id.jpg': sorted(os.listdir(\"Sentinel2LULC_Test\")), 'label': classes}\n",
        "df = pd.DataFrame(data=d)\n",
        "df.to_csv('EfficientNetB1_AdvProp.csv', index=False)\n",
        "files.download('EfficientNetB1_AdvProp.csv')"
      ],
      "metadata": {
        "id": "slVHuZ5cylPh",
        "colab": {
          "base_uri": "https://localhost:8080/",
          "height": 17
        },
        "outputId": "db94c4b7-088a-428a-fb40-202029e4131e"
      },
      "execution_count": 10,
      "outputs": [
        {
          "output_type": "display_data",
          "data": {
            "text/plain": [
              "<IPython.core.display.Javascript object>"
            ],
            "application/javascript": [
              "\n",
              "    async function download(id, filename, size) {\n",
              "      if (!google.colab.kernel.accessAllowed) {\n",
              "        return;\n",
              "      }\n",
              "      const div = document.createElement('div');\n",
              "      const label = document.createElement('label');\n",
              "      label.textContent = `Downloading \"${filename}\": `;\n",
              "      div.appendChild(label);\n",
              "      const progress = document.createElement('progress');\n",
              "      progress.max = size;\n",
              "      div.appendChild(progress);\n",
              "      document.body.appendChild(div);\n",
              "\n",
              "      const buffers = [];\n",
              "      let downloaded = 0;\n",
              "\n",
              "      const channel = await google.colab.kernel.comms.open(id);\n",
              "      // Send a message to notify the kernel that we're ready.\n",
              "      channel.send({})\n",
              "\n",
              "      for await (const message of channel.messages) {\n",
              "        // Send a message to notify the kernel that we're ready.\n",
              "        channel.send({})\n",
              "        if (message.buffers) {\n",
              "          for (const buffer of message.buffers) {\n",
              "            buffers.push(buffer);\n",
              "            downloaded += buffer.byteLength;\n",
              "            progress.value = downloaded;\n",
              "          }\n",
              "        }\n",
              "      }\n",
              "      const blob = new Blob(buffers, {type: 'application/binary'});\n",
              "      const a = document.createElement('a');\n",
              "      a.href = window.URL.createObjectURL(blob);\n",
              "      a.download = filename;\n",
              "      div.appendChild(a);\n",
              "      a.click();\n",
              "      div.remove();\n",
              "    }\n",
              "  "
            ]
          },
          "metadata": {}
        },
        {
          "output_type": "display_data",
          "data": {
            "text/plain": [
              "<IPython.core.display.Javascript object>"
            ],
            "application/javascript": [
              "download(\"download_9ded1215-d16b-4b3d-84e2-ff7b05defa28\", \"EfficientNetB1_AdvProp.csv\", 155479)"
            ]
          },
          "metadata": {}
        }
      ]
    }
  ]
}