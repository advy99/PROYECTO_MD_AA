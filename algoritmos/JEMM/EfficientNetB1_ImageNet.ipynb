{
  "nbformat": 4,
  "nbformat_minor": 0,
  "metadata": {
    "colab": {
      "name": "EfficientNetB1_ImageNet.ipynb",
      "provenance": [],
      "collapsed_sections": []
    },
    "kernelspec": {
      "name": "python3",
      "display_name": "Python 3"
    },
    "language_info": {
      "name": "python"
    },
    "accelerator": "GPU"
  },
  "cells": [
    {
      "cell_type": "code",
      "execution_count": 3,
      "metadata": {
        "id": "wVQJG1nQgzMI"
      },
      "outputs": [],
      "source": [
        "## LIBRERIAS\n",
        "from google.colab import drive, files\n",
        "import tensorflow as tf \n",
        "import numpy as np\n",
        "import matplotlib.pyplot as plt\n",
        "import pandas as pd\n",
        "import mlflow\n",
        "from keras import Model, Sequential\n",
        "from keras.losses import SparseCategoricalCrossentropy\n",
        "from tensorflow.keras.optimizers import Adam\n",
        "from keras.callbacks import EarlyStopping\n",
        "from keras.layers import Conv2D, MaxPooling2D, Dense, Dropout, BatchNormalization, Rescaling, GlobalAveragePooling2D, RandomFlip, Input, RandomContrast\n",
        "from keras.preprocessing.image import ImageDataGenerator\n",
        "import random\n",
        "import os\n",
        "random.seed(1234)"
      ]
    },
    {
      "cell_type": "code",
      "source": [
        "## Cargamos Drive e importamos las imágenes de train y test\n",
        "drive.mount('/content/drive')\n",
        "!unzip \"/content/drive/MyDrive/ColabNotebooks/Mineria_Aspectos_Avanzados/Competicion_Kaggle/Sentinel2LULC_354.zip\" -d \"/content\"\n",
        "!unzip \"/content/drive/MyDrive/ColabNotebooks/Mineria_Aspectos_Avanzados/Competicion_Kaggle/Sentinel2LULC_Test.zip\" -d \"/content\""
      ],
      "metadata": {
        "id": "DNTeEgLnh6eW"
      },
      "execution_count": null,
      "outputs": []
    },
    {
      "cell_type": "code",
      "source": [
        "## Renombramos las carpetas para que tf las lea en orden\n",
        "dirnames = sorted(os.listdir(\"Sentinel2LULC_354\"))\n",
        "for dir in dirnames:\n",
        "  newname = \"\"\n",
        "\n",
        "  if (len(dir.split('_')[0]) == 1):\n",
        "    newname = '0'+dir.split('_')[0]\n",
        "  else:\n",
        "    newname = dir.split('_')[0]\n",
        "\n",
        "  os.rename(\"Sentinel2LULC_354/\"+dir,\"Sentinel2LULC_354/\"+newname)"
      ],
      "metadata": {
        "id": "T4N68EG1RQhM"
      },
      "execution_count": 5,
      "outputs": []
    },
    {
      "cell_type": "code",
      "source": [
        "## Leemos las imágenes de train, validacion y test\n",
        "\n",
        "training = tf.keras.utils.image_dataset_from_directory(\n",
        "  \"Sentinel2LULC_354\",\n",
        "  validation_split=0.2,\n",
        "  subset=\"training\",\n",
        "  seed=1234,\n",
        "  image_size=(224, 224),\n",
        "  batch_size = 32)\n",
        "\n",
        "validation = tf.keras.utils.image_dataset_from_directory(\n",
        "  \"Sentinel2LULC_354\",\n",
        "  validation_split=0.2,\n",
        "  subset=\"validation\",\n",
        "  seed=1234,\n",
        "  image_size=(224, 224),\n",
        "  batch_size = 32)\n",
        "\n",
        "test = tf.keras.utils.image_dataset_from_directory(\n",
        "  \"Sentinel2LULC_Test\",\n",
        "  shuffle=False,\n",
        "  labels=None,\n",
        "  image_size=(224, 224),\n",
        "  batch_size = 32)\n"
      ],
      "metadata": {
        "colab": {
          "base_uri": "https://localhost:8080/"
        },
        "id": "nhgvyzLloHL-",
        "outputId": "a1d7915c-846d-4e80-a456-9e3729b8add5"
      },
      "execution_count": 6,
      "outputs": [
        {
          "output_type": "stream",
          "name": "stdout",
          "text": [
            "Found 10266 files belonging to 29 classes.\n",
            "Using 8213 files for training.\n",
            "Found 10266 files belonging to 29 classes.\n",
            "Using 2053 files for validation.\n",
            "Found 1618 files belonging to 1 classes.\n"
          ]
        }
      ]
    },
    {
      "cell_type": "code",
      "source": [
        "## Función que muestra la evolución de las accuracy de train y validacion\n",
        "## durante el entrenamiento.\n",
        "def mostrarEvolucion(hist):\n",
        "\n",
        "  loss = hist.history['loss']\n",
        "  val_loss = hist.history['val_loss']\n",
        "  plt.plot(loss)\n",
        "  plt.plot(val_loss)\n",
        "  plt.legend(['Training loss', 'Validation loss'])\n",
        "  plt.show()\n",
        "\n",
        "  acc = hist.history['accuracy']\n",
        "  val_acc = hist.history['val_accuracy']\n",
        "  plt.plot(acc)\n",
        "  plt.plot(val_acc)\n",
        "  plt.legend(['Training accuracy', 'Validation accuracy'])\n",
        "  plt.show()\n",
        "\n",
        "## Creamos el modelo con las capas de Data Augmentation.\n",
        "## Solo RandomFlip parece ir bien. \n",
        "augmentation = Sequential([\n",
        "        RandomFlip()\n",
        "])\n",
        "\n",
        "## Vamos a entrenar usando la red EfficietNetB1\n",
        "base_model = tf.keras.applications.EfficientNetB1(include_top=False,\n",
        "                                                  weights='imagenet',\n",
        "                                                  pooling='avg')\n",
        "\n",
        "base_model.trainable = False\n",
        "\n",
        "## Capa de entrada\n",
        "entrada = Input(shape=(224,224,3))\n",
        "\n",
        "## Capa de normalizacion\n",
        "normalization = Rescaling(1./255)\n",
        "\n",
        "## Capa de salida\n",
        "prediction_layer = Dense(29, activation=\"softmax\")\n",
        "\n",
        "## Creamos nuestro modelo final juntando todos los submodelos/capas\n",
        "## anteriores\n",
        "model = Sequential([\n",
        "  entrada,\n",
        "  augmentation,\n",
        "  base_model,\n",
        "  BatchNormalization(),\n",
        "  Dropout(0.2),\n",
        "  prediction_layer\n",
        "])\n",
        "\n",
        "opt = Adam(learning_rate=1e-2)\n",
        "      \n",
        "model.compile(loss=SparseCategoricalCrossentropy(from_logits=False),optimizer=opt, \n",
        "                  metrics=['accuracy'])\n",
        "\n",
        "mlflow.set_experiment(\"EfficientNetB1 con DataAugmentation (ImageNet)\")\n",
        "mlflow.tensorflow.autolog()\n",
        "\n",
        "with mlflow.start_run():\n",
        "  callback = EarlyStopping(patience=3,restore_best_weights=True)\n",
        "  history = model.fit(training,\n",
        "                    epochs=25,\n",
        "                    validation_data=validation,\n",
        "                    callbacks=callback)\n",
        "\n",
        "  mostrarEvolucion(history)"
      ],
      "metadata": {
        "colab": {
          "base_uri": "https://localhost:8080/",
          "height": 914
        },
        "id": "NWSi0H18USvE",
        "outputId": "b6d43de7-13b7-449d-e579-ad897b47a813"
      },
      "execution_count": 7,
      "outputs": [
        {
          "output_type": "stream",
          "name": "stdout",
          "text": [
            "Downloading data from https://storage.googleapis.com/keras-applications/efficientnetb1_notop.h5\n",
            "27025408/27018416 [==============================] - 0s 0us/step\n",
            "27033600/27018416 [==============================] - 0s 0us/step\n"
          ]
        },
        {
          "output_type": "stream",
          "name": "stderr",
          "text": [
            "2022/03/17 11:29:39 INFO mlflow.tracking.fluent: Experiment with name 'EfficientNetB1 con DataAugmentation (ImageNet)' does not exist. Creating a new experiment.\n"
          ]
        },
        {
          "output_type": "stream",
          "name": "stdout",
          "text": [
            "Epoch 1/25\n",
            "257/257 [==============================] - 86s 250ms/step - loss: 2.3470 - accuracy: 0.5312 - val_loss: 1.2165 - val_accuracy: 0.6249\n",
            "Epoch 2/25\n",
            "257/257 [==============================] - 60s 232ms/step - loss: 1.4434 - accuracy: 0.6294 - val_loss: 1.0334 - val_accuracy: 0.6829\n",
            "Epoch 3/25\n",
            "257/257 [==============================] - 60s 232ms/step - loss: 1.1657 - accuracy: 0.6576 - val_loss: 0.9819 - val_accuracy: 0.7029\n",
            "Epoch 4/25\n",
            "257/257 [==============================] - 60s 234ms/step - loss: 1.0607 - accuracy: 0.6694 - val_loss: 0.9645 - val_accuracy: 0.6936\n",
            "Epoch 5/25\n",
            "257/257 [==============================] - 60s 232ms/step - loss: 0.9984 - accuracy: 0.6857 - val_loss: 0.9348 - val_accuracy: 0.6970\n",
            "Epoch 6/25\n",
            "257/257 [==============================] - 60s 232ms/step - loss: 0.9776 - accuracy: 0.6867 - val_loss: 0.8859 - val_accuracy: 0.7151\n",
            "Epoch 7/25\n",
            "257/257 [==============================] - 60s 231ms/step - loss: 0.9675 - accuracy: 0.6950 - val_loss: 0.9353 - val_accuracy: 0.7048\n",
            "Epoch 8/25\n",
            "257/257 [==============================] - 60s 233ms/step - loss: 0.9608 - accuracy: 0.7007 - val_loss: 0.9550 - val_accuracy: 0.7116\n",
            "Epoch 9/25\n",
            "257/257 [==============================] - 60s 232ms/step - loss: 0.9838 - accuracy: 0.6892 - val_loss: 0.9183 - val_accuracy: 0.7000\n"
          ]
        },
        {
          "output_type": "stream",
          "name": "stderr",
          "text": [
            "2022/03/17 11:41:03 WARNING mlflow.utils.autologging_utils: Encountered unexpected error during tensorflow autologging: 'EarlyStopping' object is not iterable\n"
          ]
        },
        {
          "output_type": "display_data",
          "data": {
            "text/plain": [
              "<Figure size 432x288 with 1 Axes>"
            ],
            "image/png": "[encoded data removed]"
          },
          "metadata": {
            "needs_background": "light"
          }
        },
        {
          "output_type": "display_data",
          "data": {
            "text/plain": [
              "<Figure size 432x288 with 1 Axes>"
            ],
            "image/png": "[encoded data removed]"
          },
          "metadata": {
            "needs_background": "light"
          }
        }
      ]
    },
    {
      "cell_type": "code",
      "source": [
        "## FINE TUNING: Volvemos a entrenar descongelando algunas capas (menos las BatchNormalization)\n",
        "\n",
        "def unfreeze_model(model):\n",
        "    for layer in model.layers[-20:]:\n",
        "        if not isinstance(layer, BatchNormalization):\n",
        "            layer.trainable = True\n",
        "\n",
        "    opt = Adam(learning_rate=1e-4)\n",
        "    model.compile(loss=SparseCategoricalCrossentropy(from_logits=False),optimizer=opt, \n",
        "                  metrics=['accuracy'])\n",
        "\n",
        "\n",
        "unfreeze_model(model)\n",
        "\n",
        "with mlflow.start_run():\n",
        "  callback = EarlyStopping(patience=3,restore_best_weights=True)\n",
        "  history = model.fit(training,\n",
        "                    epochs=10,\n",
        "                    validation_data=validation,\n",
        "                    callbacks=callback)\n",
        "\n",
        "  mostrarEvolucion(history)"
      ],
      "metadata": {
        "colab": {
          "base_uri": "https://localhost:8080/",
          "height": 877
        },
        "id": "WEy3yUbR2DoP",
        "outputId": "a816398f-1fa5-40b8-a7d2-9d4c5546fbc6"
      },
      "execution_count": 8,
      "outputs": [
        {
          "output_type": "stream",
          "name": "stdout",
          "text": [
            "Epoch 1/10\n",
            "257/257 [==============================] - 244s 880ms/step - loss: 1.4642 - accuracy: 0.5872 - val_loss: 3.1300 - val_accuracy: 0.3945\n",
            "Epoch 2/10\n",
            "257/257 [==============================] - 223s 865ms/step - loss: 0.7336 - accuracy: 0.7635 - val_loss: 0.5206 - val_accuracy: 0.8237\n",
            "Epoch 3/10\n",
            "257/257 [==============================] - 223s 867ms/step - loss: 0.5566 - accuracy: 0.8112 - val_loss: 0.3919 - val_accuracy: 0.8651\n",
            "Epoch 4/10\n",
            "257/257 [==============================] - 224s 871ms/step - loss: 0.4723 - accuracy: 0.8366 - val_loss: 0.3565 - val_accuracy: 0.8777\n",
            "Epoch 5/10\n",
            "257/257 [==============================] - 223s 868ms/step - loss: 0.3865 - accuracy: 0.8620 - val_loss: 0.3503 - val_accuracy: 0.8811\n",
            "Epoch 6/10\n",
            "257/257 [==============================] - 223s 866ms/step - loss: 0.3424 - accuracy: 0.8751 - val_loss: 0.3170 - val_accuracy: 0.8958\n",
            "Epoch 7/10\n",
            "257/257 [==============================] - 224s 869ms/step - loss: 0.3017 - accuracy: 0.8938 - val_loss: 0.3251 - val_accuracy: 0.8904\n",
            "Epoch 8/10\n",
            "257/257 [==============================] - 224s 870ms/step - loss: 0.2592 - accuracy: 0.9062 - val_loss: 0.3216 - val_accuracy: 0.8962\n",
            "Epoch 9/10\n",
            "257/257 [==============================] - 223s 866ms/step - loss: 0.2359 - accuracy: 0.9149 - val_loss: 0.3091 - val_accuracy: 0.8948\n",
            "Epoch 10/10\n",
            "257/257 [==============================] - 222s 865ms/step - loss: 0.2261 - accuracy: 0.9187 - val_loss: 0.3264 - val_accuracy: 0.8938\n"
          ]
        },
        {
          "output_type": "stream",
          "name": "stderr",
          "text": [
            "2022/03/17 12:23:07 WARNING mlflow.utils.autologging_utils: Encountered unexpected error during tensorflow autologging: 'EarlyStopping' object is not iterable\n"
          ]
        },
        {
          "output_type": "display_data",
          "data": {
            "text/plain": [
              "<Figure size 432x288 with 1 Axes>"
            ],
            "image/png": "[encoded data removed]"
          },
          "metadata": {
            "needs_background": "light"
          }
        },
        {
          "output_type": "display_data",
          "data": {
            "text/plain": [
              "<Figure size 432x288 with 1 Axes>"
            ],
            "image/png": "[encoded data removed]"
          },
          "metadata": {
            "needs_background": "light"
          }
        }
      ]
    },
    {
      "cell_type": "code",
      "source": [
        "## Predecimos las clases\n",
        "y_pred = model.predict(test)\n",
        "classes = np.argmax(y_pred, axis=1)\n",
        "classes = np.array(classes)\n",
        "classes = classes + 1\n",
        "print(classes)"
      ],
      "metadata": {
        "id": "C48ZiC5HxOh_",
        "colab": {
          "base_uri": "https://localhost:8080/"
        },
        "outputId": "ed04327e-f760-407a-8158-a68bfa4e77e1"
      },
      "execution_count": 9,
      "outputs": [
        {
          "output_type": "stream",
          "name": "stdout",
          "text": [
            "[10 10 10 ...  9  9 15]\n"
          ]
        }
      ]
    },
    {
      "cell_type": "code",
      "source": [
        "## Creamos el csv con los resultados\n",
        "d = {'id.jpg': sorted(os.listdir(\"Sentinel2LULC_Test\")), 'label': classes}\n",
        "df = pd.DataFrame(data=d)\n",
        "df.to_csv('EfficientNetB1_ImageNet.csv', index=False)\n",
        "files.download('EfficientNetB1_ImageNet.csv')"
      ],
      "metadata": {
        "id": "slVHuZ5cylPh",
        "colab": {
          "base_uri": "https://localhost:8080/",
          "height": 17
        },
        "outputId": "a99b81aa-8bc1-4ec2-8ffc-adc29d72b7c2"
      },
      "execution_count": 10,
      "outputs": [
        {
          "output_type": "display_data",
          "data": {
            "text/plain": [
              "<IPython.core.display.Javascript object>"
            ],
            "application/javascript": [
              "\n",
              "    async function download(id, filename, size) {\n",
              "      if (!google.colab.kernel.accessAllowed) {\n",
              "        return;\n",
              "      }\n",
              "      const div = document.createElement('div');\n",
              "      const label = document.createElement('label');\n",
              "      label.textContent = `Downloading \"${filename}\": `;\n",
              "      div.appendChild(label);\n",
              "      const progress = document.createElement('progress');\n",
              "      progress.max = size;\n",
              "      div.appendChild(progress);\n",
              "      document.body.appendChild(div);\n",
              "\n",
              "      const buffers = [];\n",
              "      let downloaded = 0;\n",
              "\n",
              "      const channel = await google.colab.kernel.comms.open(id);\n",
              "      // Send a message to notify the kernel that we're ready.\n",
              "      channel.send({})\n",
              "\n",
              "      for await (const message of channel.messages) {\n",
              "        // Send a message to notify the kernel that we're ready.\n",
              "        channel.send({})\n",
              "        if (message.buffers) {\n",
              "          for (const buffer of message.buffers) {\n",
              "            buffers.push(buffer);\n",
              "            downloaded += buffer.byteLength;\n",
              "            progress.value = downloaded;\n",
              "          }\n",
              "        }\n",
              "      }\n",
              "      const blob = new Blob(buffers, {type: 'application/binary'});\n",
              "      const a = document.createElement('a');\n",
              "      a.href = window.URL.createObjectURL(blob);\n",
              "      a.download = filename;\n",
              "      div.appendChild(a);\n",
              "      a.click();\n",
              "      div.remove();\n",
              "    }\n",
              "  "
            ]
          },
          "metadata": {}
        },
        {
          "output_type": "display_data",
          "data": {
            "text/plain": [
              "<IPython.core.display.Javascript object>"
            ],
            "application/javascript": [
              "download(\"download_5f6f69f5-0c5d-44a9-9779-b773b5d74618\", \"EfficientNetB1_ImageNet.csv\", 155463)"
            ]
          },
          "metadata": {}
        }
      ]
    }
  ]
}